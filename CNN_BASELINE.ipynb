{
  "nbformat": 4,
  "nbformat_minor": 0,
  "metadata": {
    "colab": {
      "name": "Copy of CNN_BASELINE.ipynb",
      "provenance": [],
      "toc_visible": true
    },
    "kernelspec": {
      "display_name": "Python 3",
      "name": "python3"
    },
    "language_info": {
      "name": "python"
    }
  },
  "cells": [
    {
      "cell_type": "markdown",
      "source": [
        "# CNN Baseline"
      ],
      "metadata": {
        "id": "KlhsW4O-nKCO"
      }
    },
    {
      "cell_type": "code",
      "metadata": {
        "id": "gYjFSyUn1Z0q"
      },
      "source": [
        "import pandas as pd\n",
        "import numpy as np\n",
        "import matplotlib.pyplot as plt\n",
        "\n",
        "import torch\n",
        "import torch.nn as nn\n",
        "import torch.nn.functional as F\n",
        "import torch.optim as optim\n",
        "import torchvision\n",
        "import torchvision.transforms as transforms\n",
        "from torch.autograd import Variable\n",
        "from PIL import Image\n"
      ],
      "execution_count": null,
      "outputs": []
    },
    {
      "cell_type": "markdown",
      "source": [
        "## **Load glucose data**"
      ],
      "metadata": {
        "id": "Efr4vKf86sdI"
      }
    },
    {
      "cell_type": "code",
      "metadata": {
        "colab": {
          "base_uri": "https://localhost:8080/",
          "height": 320
        },
        "id": "9ETC5Y2N1mcS",
        "outputId": "52ced9f2-0357-44f6-d430-35f00512ec4d"
      },
      "source": [
        "#!pip install -q xlrd\n",
        "df = pd.read_excel('images-v1-dl-approxtimetake-glucosecgm-v2.xlsx')\n",
        "df.head()"
      ],
      "execution_count": null,
      "outputs": [
        {
          "output_type": "execute_result",
          "data": {
            "text/html": [
              "<div>\n",
              "<style scoped>\n",
              "    .dataframe tbody tr th:only-of-type {\n",
              "        vertical-align: middle;\n",
              "    }\n",
              "\n",
              "    .dataframe tbody tr th {\n",
              "        vertical-align: top;\n",
              "    }\n",
              "\n",
              "    .dataframe thead th {\n",
              "        text-align: right;\n",
              "    }\n",
              "</style>\n",
              "<table border=\"1\" class=\"dataframe\">\n",
              "  <thead>\n",
              "    <tr style=\"text-align: right;\">\n",
              "      <th></th>\n",
              "      <th>...1</th>\n",
              "      <th>Folder</th>\n",
              "      <th>Filename</th>\n",
              "      <th>TimePhoneImage</th>\n",
              "      <th>TimeFilenameImage</th>\n",
              "      <th>TimeModifiedImage</th>\n",
              "      <th>reltime_min_-8</th>\n",
              "      <th>reltime_min_-7</th>\n",
              "      <th>reltime_min_-6</th>\n",
              "      <th>reltime_min_-5</th>\n",
              "      <th>reltime_min_-4</th>\n",
              "      <th>reltime_min_-3</th>\n",
              "      <th>reltime_min_-2</th>\n",
              "      <th>reltime_min_-1</th>\n",
              "      <th>reltime_min_0</th>\n",
              "      <th>reltime_min_1</th>\n",
              "      <th>reltime_min_2</th>\n",
              "      <th>reltime_min_3</th>\n",
              "      <th>reltime_min_4</th>\n",
              "      <th>glucose_mmol_L_pt -8</th>\n",
              "      <th>glucose_mmol_L_pt -7</th>\n",
              "      <th>glucose_mmol_L_pt -6</th>\n",
              "      <th>glucose_mmol_L_pt -5</th>\n",
              "      <th>glucose_mmol_L_pt -4</th>\n",
              "      <th>glucose_mmol_L_pt -3</th>\n",
              "      <th>glucose_mmol_L_pt -2</th>\n",
              "      <th>glucose_mmol_L_pt -1</th>\n",
              "      <th>glucose_mmol_L_pt 0</th>\n",
              "      <th>glucose_mmol_L_pt 1</th>\n",
              "      <th>glucose_mmol_L_pt 2</th>\n",
              "      <th>glucose_mmol_L_pt 3</th>\n",
              "      <th>glucose_mmol_L_pt 4</th>\n",
              "    </tr>\n",
              "  </thead>\n",
              "  <tbody>\n",
              "    <tr>\n",
              "      <th>0</th>\n",
              "      <td>327</td>\n",
              "      <td>327</td>\n",
              "      <td>IMG_20190307_130615.jpg</td>\n",
              "      <td>2019-03-07 13:06:15</td>\n",
              "      <td>2019-03-07 13:06:15</td>\n",
              "      <td>2019-03-07 13:06:38</td>\n",
              "      <td>-113.0</td>\n",
              "      <td>-98.0</td>\n",
              "      <td>-83.0</td>\n",
              "      <td>-68.0</td>\n",
              "      <td>-53.0</td>\n",
              "      <td>-38.0</td>\n",
              "      <td>-23.0</td>\n",
              "      <td>-8.0</td>\n",
              "      <td>7.0</td>\n",
              "      <td>22.0</td>\n",
              "      <td>37.0</td>\n",
              "      <td>52.0</td>\n",
              "      <td>67.0</td>\n",
              "      <td>3.8</td>\n",
              "      <td>3.3</td>\n",
              "      <td>3.2</td>\n",
              "      <td>2.8</td>\n",
              "      <td>2.5</td>\n",
              "      <td>2.4</td>\n",
              "      <td>2.3</td>\n",
              "      <td>2.4</td>\n",
              "      <td>2.5</td>\n",
              "      <td>3.7</td>\n",
              "      <td>6.0</td>\n",
              "      <td>6.1</td>\n",
              "      <td>5.1</td>\n",
              "    </tr>\n",
              "    <tr>\n",
              "      <th>1</th>\n",
              "      <td>327</td>\n",
              "      <td>327</td>\n",
              "      <td>IMG_20190307_192048.jpg</td>\n",
              "      <td>2019-03-07 19:20:49</td>\n",
              "      <td>2019-03-07 19:20:48</td>\n",
              "      <td>2019-03-07 19:27:00</td>\n",
              "      <td>-113.0</td>\n",
              "      <td>-98.0</td>\n",
              "      <td>-83.0</td>\n",
              "      <td>-68.0</td>\n",
              "      <td>-53.0</td>\n",
              "      <td>-38.0</td>\n",
              "      <td>-23.0</td>\n",
              "      <td>-8.0</td>\n",
              "      <td>7.0</td>\n",
              "      <td>22.0</td>\n",
              "      <td>37.0</td>\n",
              "      <td>52.0</td>\n",
              "      <td>67.0</td>\n",
              "      <td>4.4</td>\n",
              "      <td>4.7</td>\n",
              "      <td>4.8</td>\n",
              "      <td>4.6</td>\n",
              "      <td>4.1</td>\n",
              "      <td>3.7</td>\n",
              "      <td>4.0</td>\n",
              "      <td>4.8</td>\n",
              "      <td>5.1</td>\n",
              "      <td>3.9</td>\n",
              "      <td>3.6</td>\n",
              "      <td>5.4</td>\n",
              "      <td>5.9</td>\n",
              "    </tr>\n",
              "    <tr>\n",
              "      <th>2</th>\n",
              "      <td>327</td>\n",
              "      <td>327</td>\n",
              "      <td>IMG_20190307_204505.jpg</td>\n",
              "      <td>2019-03-07 20:45:06</td>\n",
              "      <td>2019-03-07 20:45:05</td>\n",
              "      <td>2019-03-07 22:01:25</td>\n",
              "      <td>-122.0</td>\n",
              "      <td>-107.0</td>\n",
              "      <td>-92.0</td>\n",
              "      <td>-77.0</td>\n",
              "      <td>-62.0</td>\n",
              "      <td>-47.0</td>\n",
              "      <td>-32.0</td>\n",
              "      <td>-17.0</td>\n",
              "      <td>-2.0</td>\n",
              "      <td>13.0</td>\n",
              "      <td>28.0</td>\n",
              "      <td>43.0</td>\n",
              "      <td>58.0</td>\n",
              "      <td>3.7</td>\n",
              "      <td>4.0</td>\n",
              "      <td>4.8</td>\n",
              "      <td>5.1</td>\n",
              "      <td>3.9</td>\n",
              "      <td>3.6</td>\n",
              "      <td>5.4</td>\n",
              "      <td>5.9</td>\n",
              "      <td>4.6</td>\n",
              "      <td>3.7</td>\n",
              "      <td>3.5</td>\n",
              "      <td>5.6</td>\n",
              "      <td>6.8</td>\n",
              "    </tr>\n",
              "    <tr>\n",
              "      <th>3</th>\n",
              "      <td>327</td>\n",
              "      <td>327</td>\n",
              "      <td>IMG_20190307_213128.jpg</td>\n",
              "      <td>2019-03-07 21:31:29</td>\n",
              "      <td>2019-03-07 21:31:28</td>\n",
              "      <td>2019-03-07 22:01:27</td>\n",
              "      <td>-123.0</td>\n",
              "      <td>-108.0</td>\n",
              "      <td>-93.0</td>\n",
              "      <td>-78.0</td>\n",
              "      <td>-63.0</td>\n",
              "      <td>-48.0</td>\n",
              "      <td>-33.0</td>\n",
              "      <td>-18.0</td>\n",
              "      <td>-3.0</td>\n",
              "      <td>12.0</td>\n",
              "      <td>27.0</td>\n",
              "      <td>42.0</td>\n",
              "      <td>57.0</td>\n",
              "      <td>5.1</td>\n",
              "      <td>3.9</td>\n",
              "      <td>3.6</td>\n",
              "      <td>5.4</td>\n",
              "      <td>5.9</td>\n",
              "      <td>4.6</td>\n",
              "      <td>3.7</td>\n",
              "      <td>3.5</td>\n",
              "      <td>5.6</td>\n",
              "      <td>6.8</td>\n",
              "      <td>4.6</td>\n",
              "      <td>3.9</td>\n",
              "      <td>4.2</td>\n",
              "    </tr>\n",
              "    <tr>\n",
              "      <th>4</th>\n",
              "      <td>327</td>\n",
              "      <td>327</td>\n",
              "      <td>IMG_20190307_213224.jpg</td>\n",
              "      <td>2019-03-07 21:32:25</td>\n",
              "      <td>2019-03-07 21:32:24</td>\n",
              "      <td>2019-03-07 22:01:27</td>\n",
              "      <td>-124.0</td>\n",
              "      <td>-109.0</td>\n",
              "      <td>-94.0</td>\n",
              "      <td>-79.0</td>\n",
              "      <td>-64.0</td>\n",
              "      <td>-49.0</td>\n",
              "      <td>-34.0</td>\n",
              "      <td>-19.0</td>\n",
              "      <td>-4.0</td>\n",
              "      <td>11.0</td>\n",
              "      <td>26.0</td>\n",
              "      <td>41.0</td>\n",
              "      <td>56.0</td>\n",
              "      <td>5.1</td>\n",
              "      <td>3.9</td>\n",
              "      <td>3.6</td>\n",
              "      <td>5.4</td>\n",
              "      <td>5.9</td>\n",
              "      <td>4.6</td>\n",
              "      <td>3.7</td>\n",
              "      <td>3.5</td>\n",
              "      <td>5.6</td>\n",
              "      <td>6.8</td>\n",
              "      <td>4.6</td>\n",
              "      <td>3.9</td>\n",
              "      <td>4.2</td>\n",
              "    </tr>\n",
              "  </tbody>\n",
              "</table>\n",
              "</div>"
            ],
            "text/plain": [
              "   ...1  Folder  ... glucose_mmol_L_pt 3 glucose_mmol_L_pt 4\n",
              "0   327     327  ...                 6.1                 5.1\n",
              "1   327     327  ...                 5.4                 5.9\n",
              "2   327     327  ...                 5.6                 6.8\n",
              "3   327     327  ...                 3.9                 4.2\n",
              "4   327     327  ...                 3.9                 4.2\n",
              "\n",
              "[5 rows x 32 columns]"
            ]
          },
          "metadata": {},
          "execution_count": 2
        }
      ]
    },
    {
      "cell_type": "markdown",
      "metadata": {
        "id": "QvXiiqjMPy7E"
      },
      "source": [
        "We take the columns we are interested in:"
      ]
    },
    {
      "cell_type": "code",
      "metadata": {
        "colab": {
          "base_uri": "https://localhost:8080/",
          "height": 237
        },
        "id": "iD26m2K12AFK",
        "outputId": "1958dc68-bcc4-4455-999c-581c3f14a5c9"
      },
      "source": [
        "df_filt=df[[\"Folder\", \"Filename\",\"reltime_min_-8\",\"reltime_min_-7\",\"reltime_min_-6\",\"reltime_min_-5\",\"reltime_min_-4\",\"reltime_min_-3\",\"reltime_min_-2\",\"reltime_min_-1\",\"reltime_min_0\",\"reltime_min_1\",\"reltime_min_2\",\"reltime_min_3\",\"reltime_min_4\",\n",
        "            \"glucose_mmol_L_pt -8\",\"glucose_mmol_L_pt -7\",\"glucose_mmol_L_pt -6\",\"glucose_mmol_L_pt -5\",\"glucose_mmol_L_pt -4\",\n",
        "            \"glucose_mmol_L_pt -3\",\"glucose_mmol_L_pt -2\",\"glucose_mmol_L_pt -1\",\"glucose_mmol_L_pt 0\",\"glucose_mmol_L_pt 1\",\"glucose_mmol_L_pt 2\",\n",
        "            \"glucose_mmol_L_pt 3\",\"glucose_mmol_L_pt 4\",]]\n",
        "df_filt.head()"
      ],
      "execution_count": null,
      "outputs": [
        {
          "output_type": "execute_result",
          "data": {
            "text/html": [
              "<div>\n",
              "<style scoped>\n",
              "    .dataframe tbody tr th:only-of-type {\n",
              "        vertical-align: middle;\n",
              "    }\n",
              "\n",
              "    .dataframe tbody tr th {\n",
              "        vertical-align: top;\n",
              "    }\n",
              "\n",
              "    .dataframe thead th {\n",
              "        text-align: right;\n",
              "    }\n",
              "</style>\n",
              "<table border=\"1\" class=\"dataframe\">\n",
              "  <thead>\n",
              "    <tr style=\"text-align: right;\">\n",
              "      <th></th>\n",
              "      <th>Folder</th>\n",
              "      <th>Filename</th>\n",
              "      <th>reltime_min_-8</th>\n",
              "      <th>reltime_min_-7</th>\n",
              "      <th>reltime_min_-6</th>\n",
              "      <th>reltime_min_-5</th>\n",
              "      <th>reltime_min_-4</th>\n",
              "      <th>reltime_min_-3</th>\n",
              "      <th>reltime_min_-2</th>\n",
              "      <th>reltime_min_-1</th>\n",
              "      <th>reltime_min_0</th>\n",
              "      <th>reltime_min_1</th>\n",
              "      <th>reltime_min_2</th>\n",
              "      <th>reltime_min_3</th>\n",
              "      <th>reltime_min_4</th>\n",
              "      <th>glucose_mmol_L_pt -8</th>\n",
              "      <th>glucose_mmol_L_pt -7</th>\n",
              "      <th>glucose_mmol_L_pt -6</th>\n",
              "      <th>glucose_mmol_L_pt -5</th>\n",
              "      <th>glucose_mmol_L_pt -4</th>\n",
              "      <th>glucose_mmol_L_pt -3</th>\n",
              "      <th>glucose_mmol_L_pt -2</th>\n",
              "      <th>glucose_mmol_L_pt -1</th>\n",
              "      <th>glucose_mmol_L_pt 0</th>\n",
              "      <th>glucose_mmol_L_pt 1</th>\n",
              "      <th>glucose_mmol_L_pt 2</th>\n",
              "      <th>glucose_mmol_L_pt 3</th>\n",
              "      <th>glucose_mmol_L_pt 4</th>\n",
              "    </tr>\n",
              "  </thead>\n",
              "  <tbody>\n",
              "    <tr>\n",
              "      <th>0</th>\n",
              "      <td>327</td>\n",
              "      <td>IMG_20190307_130615.jpg</td>\n",
              "      <td>-113.0</td>\n",
              "      <td>-98.0</td>\n",
              "      <td>-83.0</td>\n",
              "      <td>-68.0</td>\n",
              "      <td>-53.0</td>\n",
              "      <td>-38.0</td>\n",
              "      <td>-23.0</td>\n",
              "      <td>-8.0</td>\n",
              "      <td>7.0</td>\n",
              "      <td>22.0</td>\n",
              "      <td>37.0</td>\n",
              "      <td>52.0</td>\n",
              "      <td>67.0</td>\n",
              "      <td>3.8</td>\n",
              "      <td>3.3</td>\n",
              "      <td>3.2</td>\n",
              "      <td>2.8</td>\n",
              "      <td>2.5</td>\n",
              "      <td>2.4</td>\n",
              "      <td>2.3</td>\n",
              "      <td>2.4</td>\n",
              "      <td>2.5</td>\n",
              "      <td>3.7</td>\n",
              "      <td>6.0</td>\n",
              "      <td>6.1</td>\n",
              "      <td>5.1</td>\n",
              "    </tr>\n",
              "    <tr>\n",
              "      <th>1</th>\n",
              "      <td>327</td>\n",
              "      <td>IMG_20190307_192048.jpg</td>\n",
              "      <td>-113.0</td>\n",
              "      <td>-98.0</td>\n",
              "      <td>-83.0</td>\n",
              "      <td>-68.0</td>\n",
              "      <td>-53.0</td>\n",
              "      <td>-38.0</td>\n",
              "      <td>-23.0</td>\n",
              "      <td>-8.0</td>\n",
              "      <td>7.0</td>\n",
              "      <td>22.0</td>\n",
              "      <td>37.0</td>\n",
              "      <td>52.0</td>\n",
              "      <td>67.0</td>\n",
              "      <td>4.4</td>\n",
              "      <td>4.7</td>\n",
              "      <td>4.8</td>\n",
              "      <td>4.6</td>\n",
              "      <td>4.1</td>\n",
              "      <td>3.7</td>\n",
              "      <td>4.0</td>\n",
              "      <td>4.8</td>\n",
              "      <td>5.1</td>\n",
              "      <td>3.9</td>\n",
              "      <td>3.6</td>\n",
              "      <td>5.4</td>\n",
              "      <td>5.9</td>\n",
              "    </tr>\n",
              "    <tr>\n",
              "      <th>2</th>\n",
              "      <td>327</td>\n",
              "      <td>IMG_20190307_204505.jpg</td>\n",
              "      <td>-122.0</td>\n",
              "      <td>-107.0</td>\n",
              "      <td>-92.0</td>\n",
              "      <td>-77.0</td>\n",
              "      <td>-62.0</td>\n",
              "      <td>-47.0</td>\n",
              "      <td>-32.0</td>\n",
              "      <td>-17.0</td>\n",
              "      <td>-2.0</td>\n",
              "      <td>13.0</td>\n",
              "      <td>28.0</td>\n",
              "      <td>43.0</td>\n",
              "      <td>58.0</td>\n",
              "      <td>3.7</td>\n",
              "      <td>4.0</td>\n",
              "      <td>4.8</td>\n",
              "      <td>5.1</td>\n",
              "      <td>3.9</td>\n",
              "      <td>3.6</td>\n",
              "      <td>5.4</td>\n",
              "      <td>5.9</td>\n",
              "      <td>4.6</td>\n",
              "      <td>3.7</td>\n",
              "      <td>3.5</td>\n",
              "      <td>5.6</td>\n",
              "      <td>6.8</td>\n",
              "    </tr>\n",
              "    <tr>\n",
              "      <th>3</th>\n",
              "      <td>327</td>\n",
              "      <td>IMG_20190307_213128.jpg</td>\n",
              "      <td>-123.0</td>\n",
              "      <td>-108.0</td>\n",
              "      <td>-93.0</td>\n",
              "      <td>-78.0</td>\n",
              "      <td>-63.0</td>\n",
              "      <td>-48.0</td>\n",
              "      <td>-33.0</td>\n",
              "      <td>-18.0</td>\n",
              "      <td>-3.0</td>\n",
              "      <td>12.0</td>\n",
              "      <td>27.0</td>\n",
              "      <td>42.0</td>\n",
              "      <td>57.0</td>\n",
              "      <td>5.1</td>\n",
              "      <td>3.9</td>\n",
              "      <td>3.6</td>\n",
              "      <td>5.4</td>\n",
              "      <td>5.9</td>\n",
              "      <td>4.6</td>\n",
              "      <td>3.7</td>\n",
              "      <td>3.5</td>\n",
              "      <td>5.6</td>\n",
              "      <td>6.8</td>\n",
              "      <td>4.6</td>\n",
              "      <td>3.9</td>\n",
              "      <td>4.2</td>\n",
              "    </tr>\n",
              "    <tr>\n",
              "      <th>4</th>\n",
              "      <td>327</td>\n",
              "      <td>IMG_20190307_213224.jpg</td>\n",
              "      <td>-124.0</td>\n",
              "      <td>-109.0</td>\n",
              "      <td>-94.0</td>\n",
              "      <td>-79.0</td>\n",
              "      <td>-64.0</td>\n",
              "      <td>-49.0</td>\n",
              "      <td>-34.0</td>\n",
              "      <td>-19.0</td>\n",
              "      <td>-4.0</td>\n",
              "      <td>11.0</td>\n",
              "      <td>26.0</td>\n",
              "      <td>41.0</td>\n",
              "      <td>56.0</td>\n",
              "      <td>5.1</td>\n",
              "      <td>3.9</td>\n",
              "      <td>3.6</td>\n",
              "      <td>5.4</td>\n",
              "      <td>5.9</td>\n",
              "      <td>4.6</td>\n",
              "      <td>3.7</td>\n",
              "      <td>3.5</td>\n",
              "      <td>5.6</td>\n",
              "      <td>6.8</td>\n",
              "      <td>4.6</td>\n",
              "      <td>3.9</td>\n",
              "      <td>4.2</td>\n",
              "    </tr>\n",
              "  </tbody>\n",
              "</table>\n",
              "</div>"
            ],
            "text/plain": [
              "   Folder                 Filename  ...  glucose_mmol_L_pt 3  glucose_mmol_L_pt 4\n",
              "0     327  IMG_20190307_130615.jpg  ...                  6.1                  5.1\n",
              "1     327  IMG_20190307_192048.jpg  ...                  5.4                  5.9\n",
              "2     327  IMG_20190307_204505.jpg  ...                  5.6                  6.8\n",
              "3     327  IMG_20190307_213128.jpg  ...                  3.9                  4.2\n",
              "4     327  IMG_20190307_213224.jpg  ...                  3.9                  4.2\n",
              "\n",
              "[5 rows x 28 columns]"
            ]
          },
          "metadata": {},
          "execution_count": 3
        }
      ]
    },
    {
      "cell_type": "markdown",
      "metadata": {
        "id": "HiSaVPKrQ74R"
      },
      "source": [
        "Data cleaning is needed.\n",
        "- Measurement time below 10 hours cannot be possible, but we set the limit 2 hours before taking the picture."
      ]
    },
    {
      "cell_type": "code",
      "metadata": {
        "id": "qIW2OiUSQPUy"
      },
      "source": [
        "df_filt = df_filt[df_filt['reltime_min_-8'] > -180]  "
      ],
      "execution_count": null,
      "outputs": []
    },
    {
      "cell_type": "code",
      "metadata": {
        "colab": {
          "base_uri": "https://localhost:8080/",
          "height": 294
        },
        "id": "0BqV3rPM4SVL",
        "outputId": "2185973a-e018-46ca-a446-4cf26f879047"
      },
      "source": [
        "#select columns with data from glucose in blood\n",
        "gluc_datapoints=df_filt.to_numpy()\n",
        "gluc_datapoints=gluc_datapoints[:, 15:]\n",
        "\n",
        "measurements_to_plot=10# len(gluc_datapoints)\n",
        "for i in range(measurements_to_plot):\n",
        "  plt.plot(gluc_datapoints[i,:])\n",
        "plt.xlabel(\"data points\")\n",
        "plt.ylabel(\"glucose\")\n",
        "plt.title(\"blood glucose in each 13 timestamps\")\n",
        "plt.show()"
      ],
      "execution_count": null,
      "outputs": [
        {
          "output_type": "display_data",
          "data": {
            "image/png": "[encoded data removed]",
            "text/plain": [
              "<Figure size 432x288 with 1 Axes>"
            ]
          },
          "metadata": {
            "needs_background": "light"
          }
        }
      ]
    },
    {
      "cell_type": "code",
      "metadata": {
        "colab": {
          "base_uri": "https://localhost:8080/",
          "height": 34
        },
        "id": "GyFYdDTkI4lN",
        "outputId": "c90c1e37-85ed-4be7-c04d-ef5cd5da2cad"
      },
      "source": [
        "gluc_resp_plot=np.array([2.23,0.92,2.32,1.31])\n",
        "str(gluc_resp_plot[0])"
      ],
      "execution_count": null,
      "outputs": [
        {
          "output_type": "execute_result",
          "data": {
            "application/vnd.google.colaboratory.intrinsic+json": {
              "type": "string"
            },
            "text/plain": [
              "'2.23'"
            ]
          },
          "metadata": {},
          "execution_count": 6
        }
      ]
    },
    {
      "cell_type": "markdown",
      "metadata": {
        "id": "wboLLv_VZnxh"
      },
      "source": [
        "### **Blood glucose measurements examples**"
      ]
    },
    {
      "cell_type": "code",
      "metadata": {
        "colab": {
          "base_uri": "https://localhost:8080/",
          "height": 678
        },
        "id": "67fb_DYQaB2c",
        "outputId": "d22aae3b-e216-4f94-efb5-f6a1f955357a"
      },
      "source": [
        "plt.plot(gluc_datapoints[7,:])\n",
        "plt.ylabel(\"glucose\", fontsize=18)\n",
        "plt.xlabel(\"timepoint\", fontsize=18)\n",
        "plt.xticks(fontsize=18)\n",
        "plt.yticks(fontsize=18)\n",
        "\n",
        "gluc_datapoints_interest=list([37,38,39,40,64,3,5,34])\n",
        "gluc_datapoints_interest=list([37,38,5,64])\n",
        "\n",
        "fig, axes = plt.subplots(2,2,figsize=(6, 5))\n",
        "i=0\n",
        "for ax in axes.flatten():\n",
        "    numfig=gluc_datapoints_interest[i]\n",
        "    ax.plot(gluc_datapoints[numfig,:])\n",
        "    ax.tick_params(axis = 'both', which = 'major', labelsize = 18)\n",
        "    ax.set_ylim((3.5,6.2))\n",
        "    #ax.title(f'{gluc_resp_plot[%f]}'%ax)\n",
        "    #f\"the gradient is {m}, the intercept is {c}\"\n",
        "   # ax.title(\"The gradient is {}, the intercept is\".format(gluc_resp_plot[ax]))\n",
        "    ax.set_title('S'+str(i+1)+\", GC=\"+str(gluc_resp_plot[i]), fontsize=16)\n",
        "\n",
        "    if (i==0) | (i==2):\n",
        "      ax.set_ylabel(\"glucose (mmol/L)\", fontsize=16)\n",
        "    if (i==3) | (i==2):\n",
        "      ax.set_xlabel(\"timepoint\", fontsize=18)\n",
        "    else:\n",
        "      ax.tick_params(labelbottom=False) \n",
        "      ax.xaxis.set_ticks([])   \n",
        "\n",
        "    i=i+1\n",
        "plt.suptitle(\"GC 4 subjects\", fontsize=18)"
      ],
      "execution_count": null,
      "outputs": [
        {
          "output_type": "execute_result",
          "data": {
            "text/plain": [
              "Text(0.5, 0.98, 'GC 4 subjects')"
            ]
          },
          "metadata": {},
          "execution_count": 87
        },
        {
          "output_type": "display_data",
          "data": {
            "image/png": "[encoded data removed]",
            "text/plain": [
              "<Figure size 432x288 with 1 Axes>"
            ]
          },
          "metadata": {
            "needs_background": "light"
          }
        },
        {
          "output_type": "display_data",
          "data": {
            "image/png": "[encoded data removed]",
            "text/plain": [
              "<Figure size 432x360 with 4 Axes>"
            ]
          },
          "metadata": {
            "needs_background": "light"
          }
        }
      ]
    },
    {
      "cell_type": "markdown",
      "source": [
        "Glucose datapoints from different participants:"
      ],
      "metadata": {
        "id": "BUiLSJKK8EFD"
      }
    },
    {
      "cell_type": "code",
      "metadata": {
        "colab": {
          "base_uri": "https://localhost:8080/",
          "height": 594
        },
        "id": "YUXD21oLUwWP",
        "outputId": "d7839dfb-cb61-46b4-ef5c-51b5715e50f4"
      },
      "source": [
        "measurements_to_subplot=16\n",
        "fig, axes = plt.subplots(6,measurements_to_subplot,figsize=(20, 10))\n",
        "i=0\n",
        "for ax in axes.flatten():\n",
        "    ax.plot(gluc_datapoints[i,:])\n",
        "    i=i+1"
      ],
      "execution_count": null,
      "outputs": [
        {
          "output_type": "display_data",
          "data": {
            "image/png": "[encoded data removed]",
            "text/plain": [
              "<Figure size 1440x720 with 96 Axes>"
            ]
          },
          "metadata": {
            "needs_background": "light"
          }
        }
      ]
    },
    {
      "cell_type": "markdown",
      "metadata": {
        "id": "s4hRbeClP4Jw"
      },
      "source": [
        "We find at which timepoint the glucose peak is:"
      ]
    },
    {
      "cell_type": "code",
      "metadata": {
        "colab": {
          "base_uri": "https://localhost:8080/",
          "height": 294
        },
        "id": "ManDqL81Nrk9",
        "outputId": "b36e9bfa-791f-4545-8202-0c6aece288b1"
      },
      "source": [
        "peaks_glucose=np.argmax(gluc_datapoints,axis=1)\n",
        "min_glucose=np.argmin(gluc_datapoints,axis=1)\n",
        "\n",
        "#plt.hist(peaks_glucose)\n",
        "\n",
        "bins = np.arange(13) - 0.5\n",
        "plt.hist(peaks_glucose, bins,rwidth=0.5)\n",
        "plt.xticks(range(13))\n",
        "plt.xlim([-1, 13])\n",
        "plt.ylabel(\"Frequency\")\n",
        "plt.xlabel(\"Time stamp\")\n",
        "plt.title(\"Glucose peak times\")\n",
        "plt.show()"
      ],
      "execution_count": null,
      "outputs": [
        {
          "output_type": "display_data",
          "data": {
            "image/png": "[encoded data removed]",
            "text/plain": [
              "<Figure size 432x288 with 1 Axes>"
            ]
          },
          "metadata": {
            "needs_background": "light"
          }
        }
      ]
    },
    {
      "cell_type": "code",
      "metadata": {
        "colab": {
          "base_uri": "https://localhost:8080/",
          "height": 277
        },
        "id": "NQwfyQ0839Ze",
        "outputId": "b7414c01-0692-451b-bfbb-38d27d0f993e"
      },
      "source": [
        "bins=25\n",
        "dif_peak_min=peaks_glucose-min_glucose\n",
        "plt.hist(dif_peak_min,bins,rwidth=0.5)\n",
        "plt.ylabel(\"Frequency\")\n",
        "plt.xlabel(\"timestamps difference peak with min\")\n",
        "plt.show()"
      ],
      "execution_count": null,
      "outputs": [
        {
          "output_type": "display_data",
          "data": {
            "image/png": "[encoded data removed]",
            "text/plain": [
              "<Figure size 432x288 with 1 Axes>"
            ]
          },
          "metadata": {
            "needs_background": "light"
          }
        }
      ]
    },
    {
      "cell_type": "code",
      "metadata": {
        "colab": {
          "base_uri": "https://localhost:8080/",
          "height": 448
        },
        "id": "VLjJl8fy4yXl",
        "outputId": "9b2471bf-7937-4c85-bd69-2298cbfe2345"
      },
      "source": [
        "weird=((dif_peak_min < 0) & (peaks_glucose<3))\n",
        "df_filt[weird]# observations with the peak before the min and where the peak is before timestamp -4"
      ],
      "execution_count": null,
      "outputs": [
        {
          "output_type": "execute_result",
          "data": {
            "text/html": [
              "<div>\n",
              "<style scoped>\n",
              "    .dataframe tbody tr th:only-of-type {\n",
              "        vertical-align: middle;\n",
              "    }\n",
              "\n",
              "    .dataframe tbody tr th {\n",
              "        vertical-align: top;\n",
              "    }\n",
              "\n",
              "    .dataframe thead th {\n",
              "        text-align: right;\n",
              "    }\n",
              "</style>\n",
              "<table border=\"1\" class=\"dataframe\">\n",
              "  <thead>\n",
              "    <tr style=\"text-align: right;\">\n",
              "      <th></th>\n",
              "      <th>Folder</th>\n",
              "      <th>Filename</th>\n",
              "      <th>reltime_min_-8</th>\n",
              "      <th>reltime_min_-7</th>\n",
              "      <th>reltime_min_-6</th>\n",
              "      <th>reltime_min_-5</th>\n",
              "      <th>reltime_min_-4</th>\n",
              "      <th>reltime_min_-3</th>\n",
              "      <th>reltime_min_-2</th>\n",
              "      <th>reltime_min_-1</th>\n",
              "      <th>reltime_min_0</th>\n",
              "      <th>reltime_min_1</th>\n",
              "      <th>reltime_min_2</th>\n",
              "      <th>reltime_min_3</th>\n",
              "      <th>reltime_min_4</th>\n",
              "      <th>glucose_mmol_L_pt -8</th>\n",
              "      <th>glucose_mmol_L_pt -7</th>\n",
              "      <th>glucose_mmol_L_pt -6</th>\n",
              "      <th>glucose_mmol_L_pt -5</th>\n",
              "      <th>glucose_mmol_L_pt -4</th>\n",
              "      <th>glucose_mmol_L_pt -3</th>\n",
              "      <th>glucose_mmol_L_pt -2</th>\n",
              "      <th>glucose_mmol_L_pt -1</th>\n",
              "      <th>glucose_mmol_L_pt 0</th>\n",
              "      <th>glucose_mmol_L_pt 1</th>\n",
              "      <th>glucose_mmol_L_pt 2</th>\n",
              "      <th>glucose_mmol_L_pt 3</th>\n",
              "      <th>glucose_mmol_L_pt 4</th>\n",
              "    </tr>\n",
              "  </thead>\n",
              "  <tbody>\n",
              "    <tr>\n",
              "      <th>14</th>\n",
              "      <td>327</td>\n",
              "      <td>IMG_20190310_143914.jpg</td>\n",
              "      <td>-116.0</td>\n",
              "      <td>-101.0</td>\n",
              "      <td>-86.0</td>\n",
              "      <td>-71.0</td>\n",
              "      <td>-56.0</td>\n",
              "      <td>-41.0</td>\n",
              "      <td>-26.0</td>\n",
              "      <td>-11.0</td>\n",
              "      <td>4.0</td>\n",
              "      <td>19.0</td>\n",
              "      <td>34.0</td>\n",
              "      <td>49.0</td>\n",
              "      <td>64.0</td>\n",
              "      <td>5.9</td>\n",
              "      <td>6.2</td>\n",
              "      <td>5.4</td>\n",
              "      <td>4.5</td>\n",
              "      <td>4.7</td>\n",
              "      <td>5.2</td>\n",
              "      <td>5.2</td>\n",
              "      <td>5.0</td>\n",
              "      <td>5.2</td>\n",
              "      <td>5.8</td>\n",
              "      <td>5.9</td>\n",
              "      <td>5.1</td>\n",
              "      <td>5.1</td>\n",
              "    </tr>\n",
              "    <tr>\n",
              "      <th>29</th>\n",
              "      <td>327</td>\n",
              "      <td>IMG_20190314_183118.jpg</td>\n",
              "      <td>-123.0</td>\n",
              "      <td>-108.0</td>\n",
              "      <td>-93.0</td>\n",
              "      <td>-78.0</td>\n",
              "      <td>-63.0</td>\n",
              "      <td>-48.0</td>\n",
              "      <td>-33.0</td>\n",
              "      <td>-18.0</td>\n",
              "      <td>-3.0</td>\n",
              "      <td>12.0</td>\n",
              "      <td>27.0</td>\n",
              "      <td>42.0</td>\n",
              "      <td>57.0</td>\n",
              "      <td>6.2</td>\n",
              "      <td>6.0</td>\n",
              "      <td>5.4</td>\n",
              "      <td>4.7</td>\n",
              "      <td>4.4</td>\n",
              "      <td>4.4</td>\n",
              "      <td>4.5</td>\n",
              "      <td>4.5</td>\n",
              "      <td>5.1</td>\n",
              "      <td>5.9</td>\n",
              "      <td>5.8</td>\n",
              "      <td>4.4</td>\n",
              "      <td>4.0</td>\n",
              "    </tr>\n",
              "    <tr>\n",
              "      <th>47</th>\n",
              "      <td>236</td>\n",
              "      <td>14_4/IMG_20180414_172226.jpg</td>\n",
              "      <td>-120.0</td>\n",
              "      <td>-105.0</td>\n",
              "      <td>-90.0</td>\n",
              "      <td>-75.0</td>\n",
              "      <td>-60.0</td>\n",
              "      <td>-45.0</td>\n",
              "      <td>-30.0</td>\n",
              "      <td>-15.0</td>\n",
              "      <td>0.0</td>\n",
              "      <td>15.0</td>\n",
              "      <td>30.0</td>\n",
              "      <td>45.0</td>\n",
              "      <td>60.0</td>\n",
              "      <td>5.0</td>\n",
              "      <td>4.9</td>\n",
              "      <td>4.9</td>\n",
              "      <td>4.9</td>\n",
              "      <td>4.5</td>\n",
              "      <td>4.1</td>\n",
              "      <td>3.9</td>\n",
              "      <td>3.9</td>\n",
              "      <td>3.8</td>\n",
              "      <td>3.7</td>\n",
              "      <td>3.8</td>\n",
              "      <td>3.8</td>\n",
              "      <td>3.9</td>\n",
              "    </tr>\n",
              "    <tr>\n",
              "      <th>57</th>\n",
              "      <td>203</td>\n",
              "      <td>IMG_5804.JPG</td>\n",
              "      <td>-125.0</td>\n",
              "      <td>-110.0</td>\n",
              "      <td>-95.0</td>\n",
              "      <td>-80.0</td>\n",
              "      <td>-65.0</td>\n",
              "      <td>-50.0</td>\n",
              "      <td>-35.0</td>\n",
              "      <td>-20.0</td>\n",
              "      <td>-5.0</td>\n",
              "      <td>10.0</td>\n",
              "      <td>25.0</td>\n",
              "      <td>40.0</td>\n",
              "      <td>55.0</td>\n",
              "      <td>5.7</td>\n",
              "      <td>6.0</td>\n",
              "      <td>6.3</td>\n",
              "      <td>5.7</td>\n",
              "      <td>4.2</td>\n",
              "      <td>3.7</td>\n",
              "      <td>3.8</td>\n",
              "      <td>4.1</td>\n",
              "      <td>3.9</td>\n",
              "      <td>3.7</td>\n",
              "      <td>4.3</td>\n",
              "      <td>4.3</td>\n",
              "      <td>3.7</td>\n",
              "    </tr>\n",
              "    <tr>\n",
              "      <th>58</th>\n",
              "      <td>203</td>\n",
              "      <td>IMG_5805.JPG</td>\n",
              "      <td>-117.0</td>\n",
              "      <td>-102.0</td>\n",
              "      <td>-87.0</td>\n",
              "      <td>-72.0</td>\n",
              "      <td>-57.0</td>\n",
              "      <td>-42.0</td>\n",
              "      <td>-27.0</td>\n",
              "      <td>-12.0</td>\n",
              "      <td>3.0</td>\n",
              "      <td>18.0</td>\n",
              "      <td>33.0</td>\n",
              "      <td>48.0</td>\n",
              "      <td>63.0</td>\n",
              "      <td>6.0</td>\n",
              "      <td>6.3</td>\n",
              "      <td>5.7</td>\n",
              "      <td>4.2</td>\n",
              "      <td>3.7</td>\n",
              "      <td>3.8</td>\n",
              "      <td>4.1</td>\n",
              "      <td>3.9</td>\n",
              "      <td>3.7</td>\n",
              "      <td>4.3</td>\n",
              "      <td>4.3</td>\n",
              "      <td>3.7</td>\n",
              "      <td>3.5</td>\n",
              "    </tr>\n",
              "    <tr>\n",
              "      <th>...</th>\n",
              "      <td>...</td>\n",
              "      <td>...</td>\n",
              "      <td>...</td>\n",
              "      <td>...</td>\n",
              "      <td>...</td>\n",
              "      <td>...</td>\n",
              "      <td>...</td>\n",
              "      <td>...</td>\n",
              "      <td>...</td>\n",
              "      <td>...</td>\n",
              "      <td>...</td>\n",
              "      <td>...</td>\n",
              "      <td>...</td>\n",
              "      <td>...</td>\n",
              "      <td>...</td>\n",
              "      <td>...</td>\n",
              "      <td>...</td>\n",
              "      <td>...</td>\n",
              "      <td>...</td>\n",
              "      <td>...</td>\n",
              "      <td>...</td>\n",
              "      <td>...</td>\n",
              "      <td>...</td>\n",
              "      <td>...</td>\n",
              "      <td>...</td>\n",
              "      <td>...</td>\n",
              "      <td>...</td>\n",
              "      <td>...</td>\n",
              "    </tr>\n",
              "    <tr>\n",
              "      <th>3895</th>\n",
              "      <td>33</td>\n",
              "      <td>IMG_2414.HEIC</td>\n",
              "      <td>-121.0</td>\n",
              "      <td>-106.0</td>\n",
              "      <td>-91.0</td>\n",
              "      <td>-76.0</td>\n",
              "      <td>-61.0</td>\n",
              "      <td>-46.0</td>\n",
              "      <td>-31.0</td>\n",
              "      <td>-16.0</td>\n",
              "      <td>-1.0</td>\n",
              "      <td>14.0</td>\n",
              "      <td>29.0</td>\n",
              "      <td>44.0</td>\n",
              "      <td>59.0</td>\n",
              "      <td>3.8</td>\n",
              "      <td>4.7</td>\n",
              "      <td>4.5</td>\n",
              "      <td>3.6</td>\n",
              "      <td>3.1</td>\n",
              "      <td>2.4</td>\n",
              "      <td>2.6</td>\n",
              "      <td>2.4</td>\n",
              "      <td>2.2</td>\n",
              "      <td>2.2</td>\n",
              "      <td>3.2</td>\n",
              "      <td>4.7</td>\n",
              "      <td>3.2</td>\n",
              "    </tr>\n",
              "    <tr>\n",
              "      <th>3898</th>\n",
              "      <td>33</td>\n",
              "      <td>IMG_2424.HEIC</td>\n",
              "      <td>-118.0</td>\n",
              "      <td>-103.0</td>\n",
              "      <td>-88.0</td>\n",
              "      <td>-73.0</td>\n",
              "      <td>-58.0</td>\n",
              "      <td>-43.0</td>\n",
              "      <td>-28.0</td>\n",
              "      <td>-13.0</td>\n",
              "      <td>2.0</td>\n",
              "      <td>17.0</td>\n",
              "      <td>32.0</td>\n",
              "      <td>47.0</td>\n",
              "      <td>62.0</td>\n",
              "      <td>7.4</td>\n",
              "      <td>7.5</td>\n",
              "      <td>5.6</td>\n",
              "      <td>4.8</td>\n",
              "      <td>4.3</td>\n",
              "      <td>3.7</td>\n",
              "      <td>3.5</td>\n",
              "      <td>3.8</td>\n",
              "      <td>4.3</td>\n",
              "      <td>4.9</td>\n",
              "      <td>4.8</td>\n",
              "      <td>4.1</td>\n",
              "      <td>3.9</td>\n",
              "    </tr>\n",
              "    <tr>\n",
              "      <th>3902</th>\n",
              "      <td>33</td>\n",
              "      <td>IMG_2447.HEIC</td>\n",
              "      <td>-114.0</td>\n",
              "      <td>-99.0</td>\n",
              "      <td>-84.0</td>\n",
              "      <td>-69.0</td>\n",
              "      <td>-54.0</td>\n",
              "      <td>-39.0</td>\n",
              "      <td>-24.0</td>\n",
              "      <td>-9.0</td>\n",
              "      <td>6.0</td>\n",
              "      <td>21.0</td>\n",
              "      <td>36.0</td>\n",
              "      <td>51.0</td>\n",
              "      <td>66.0</td>\n",
              "      <td>8.0</td>\n",
              "      <td>8.8</td>\n",
              "      <td>8.6</td>\n",
              "      <td>7.5</td>\n",
              "      <td>6.5</td>\n",
              "      <td>6.1</td>\n",
              "      <td>5.7</td>\n",
              "      <td>5.4</td>\n",
              "      <td>5.1</td>\n",
              "      <td>5.3</td>\n",
              "      <td>6.1</td>\n",
              "      <td>6.7</td>\n",
              "      <td>6.4</td>\n",
              "    </tr>\n",
              "    <tr>\n",
              "      <th>3905</th>\n",
              "      <td>33</td>\n",
              "      <td>IMG_2475.HEIC</td>\n",
              "      <td>-118.0</td>\n",
              "      <td>-103.0</td>\n",
              "      <td>-88.0</td>\n",
              "      <td>-73.0</td>\n",
              "      <td>-58.0</td>\n",
              "      <td>-43.0</td>\n",
              "      <td>-28.0</td>\n",
              "      <td>-13.0</td>\n",
              "      <td>2.0</td>\n",
              "      <td>17.0</td>\n",
              "      <td>32.0</td>\n",
              "      <td>47.0</td>\n",
              "      <td>62.0</td>\n",
              "      <td>5.1</td>\n",
              "      <td>5.0</td>\n",
              "      <td>4.9</td>\n",
              "      <td>4.9</td>\n",
              "      <td>5.0</td>\n",
              "      <td>4.9</td>\n",
              "      <td>4.9</td>\n",
              "      <td>4.9</td>\n",
              "      <td>4.9</td>\n",
              "      <td>5.1</td>\n",
              "      <td>5.1</td>\n",
              "      <td>4.9</td>\n",
              "      <td>5.0</td>\n",
              "    </tr>\n",
              "    <tr>\n",
              "      <th>3911</th>\n",
              "      <td>112</td>\n",
              "      <td>IMG_3384.HEIC</td>\n",
              "      <td>-113.0</td>\n",
              "      <td>-98.0</td>\n",
              "      <td>-83.0</td>\n",
              "      <td>-68.0</td>\n",
              "      <td>-53.0</td>\n",
              "      <td>-38.0</td>\n",
              "      <td>-23.0</td>\n",
              "      <td>-8.0</td>\n",
              "      <td>7.0</td>\n",
              "      <td>22.0</td>\n",
              "      <td>37.0</td>\n",
              "      <td>52.0</td>\n",
              "      <td>67.0</td>\n",
              "      <td>6.7</td>\n",
              "      <td>5.7</td>\n",
              "      <td>5.1</td>\n",
              "      <td>5.2</td>\n",
              "      <td>5.5</td>\n",
              "      <td>5.5</td>\n",
              "      <td>5.2</td>\n",
              "      <td>5.1</td>\n",
              "      <td>5.5</td>\n",
              "      <td>6.2</td>\n",
              "      <td>5.9</td>\n",
              "      <td>4.9</td>\n",
              "      <td>5.2</td>\n",
              "    </tr>\n",
              "  </tbody>\n",
              "</table>\n",
              "<p>557 rows × 28 columns</p>\n",
              "</div>"
            ],
            "text/plain": [
              "      Folder  ... glucose_mmol_L_pt 4\n",
              "14       327  ...                 5.1\n",
              "29       327  ...                 4.0\n",
              "47       236  ...                 3.9\n",
              "57       203  ...                 3.7\n",
              "58       203  ...                 3.5\n",
              "...      ...  ...                 ...\n",
              "3895      33  ...                 3.2\n",
              "3898      33  ...                 3.9\n",
              "3902      33  ...                 6.4\n",
              "3905      33  ...                 5.0\n",
              "3911     112  ...                 5.2\n",
              "\n",
              "[557 rows x 28 columns]"
            ]
          },
          "metadata": {},
          "execution_count": 13
        }
      ]
    },
    {
      "cell_type": "code",
      "metadata": {
        "colab": {
          "base_uri": "https://localhost:8080/"
        },
        "id": "pxVSbN6yvY5g",
        "outputId": "5e956a49-3def-4488-b41f-6e75e10a279d"
      },
      "source": [
        "df.Folder.unique()"
      ],
      "execution_count": null,
      "outputs": [
        {
          "output_type": "execute_result",
          "data": {
            "text/plain": [
              "array([327, 236, 203,  69, 106, 249,  68,  15, 300, 212,  77,  45, 251,\n",
              "       121, 164, 132, 233,  80, 240,  56, 134, 225, 159, 214, 215,  43,\n",
              "       317,  81, 230, 285,   5, 290, 171, 330,  90, 118, 209, 153,  67,\n",
              "       120, 274, 147, 220, 221,  60, 139, 332, 116, 128, 269,  21,  55,\n",
              "       280, 260, 338, 208,  72, 261,  17,  89, 286, 182, 314, 146, 126,\n",
              "       243, 205, 204, 190, 252, 289, 272, 303,  13, 183,  27, 100, 255,\n",
              "       175,  95,  94, 172, 218, 228, 117, 234, 211, 219, 263,  71,  76,\n",
              "        65,  63, 231,  26,   9, 271, 169, 185, 187, 237, 162, 186, 157,\n",
              "       158, 267,  79,  42, 264, 248, 109, 224,   8, 170,  50,  40,   3,\n",
              "        29, 168, 336,  33, 112])"
            ]
          },
          "metadata": {},
          "execution_count": 14
        }
      ]
    },
    {
      "cell_type": "markdown",
      "metadata": {
        "id": "jTlb52wuTomD"
      },
      "source": [
        "below we have each column summary:"
      ]
    },
    {
      "cell_type": "code",
      "metadata": {
        "colab": {
          "base_uri": "https://localhost:8080/",
          "height": 328
        },
        "id": "K9SvHd16OwXF",
        "outputId": "a6e8fb1e-97a3-46e3-d159-2e34c91d4c9b"
      },
      "source": [
        "df_filt.describe()"
      ],
      "execution_count": null,
      "outputs": [
        {
          "output_type": "execute_result",
          "data": {
            "text/html": [
              "<div>\n",
              "<style scoped>\n",
              "    .dataframe tbody tr th:only-of-type {\n",
              "        vertical-align: middle;\n",
              "    }\n",
              "\n",
              "    .dataframe tbody tr th {\n",
              "        vertical-align: top;\n",
              "    }\n",
              "\n",
              "    .dataframe thead th {\n",
              "        text-align: right;\n",
              "    }\n",
              "</style>\n",
              "<table border=\"1\" class=\"dataframe\">\n",
              "  <thead>\n",
              "    <tr style=\"text-align: right;\">\n",
              "      <th></th>\n",
              "      <th>Folder</th>\n",
              "      <th>reltime_min_-8</th>\n",
              "      <th>reltime_min_-7</th>\n",
              "      <th>reltime_min_-6</th>\n",
              "      <th>reltime_min_-5</th>\n",
              "      <th>reltime_min_-4</th>\n",
              "      <th>reltime_min_-3</th>\n",
              "      <th>reltime_min_-2</th>\n",
              "      <th>reltime_min_-1</th>\n",
              "      <th>reltime_min_0</th>\n",
              "      <th>reltime_min_1</th>\n",
              "      <th>reltime_min_2</th>\n",
              "      <th>reltime_min_3</th>\n",
              "      <th>reltime_min_4</th>\n",
              "      <th>glucose_mmol_L_pt -8</th>\n",
              "      <th>glucose_mmol_L_pt -7</th>\n",
              "      <th>glucose_mmol_L_pt -6</th>\n",
              "      <th>glucose_mmol_L_pt -5</th>\n",
              "      <th>glucose_mmol_L_pt -4</th>\n",
              "      <th>glucose_mmol_L_pt -3</th>\n",
              "      <th>glucose_mmol_L_pt -2</th>\n",
              "      <th>glucose_mmol_L_pt -1</th>\n",
              "      <th>glucose_mmol_L_pt 0</th>\n",
              "      <th>glucose_mmol_L_pt 1</th>\n",
              "      <th>glucose_mmol_L_pt 2</th>\n",
              "      <th>glucose_mmol_L_pt 3</th>\n",
              "      <th>glucose_mmol_L_pt 4</th>\n",
              "    </tr>\n",
              "  </thead>\n",
              "  <tbody>\n",
              "    <tr>\n",
              "      <th>count</th>\n",
              "      <td>3422.000000</td>\n",
              "      <td>3422.000000</td>\n",
              "      <td>3422.000000</td>\n",
              "      <td>3422.000000</td>\n",
              "      <td>3422.000000</td>\n",
              "      <td>3422.000000</td>\n",
              "      <td>3422.000000</td>\n",
              "      <td>3422.000000</td>\n",
              "      <td>3422.000000</td>\n",
              "      <td>3422.000000</td>\n",
              "      <td>3412.000000</td>\n",
              "      <td>3409.000000</td>\n",
              "      <td>3405.000000</td>\n",
              "      <td>3401.000000</td>\n",
              "      <td>3422.000000</td>\n",
              "      <td>3422.000000</td>\n",
              "      <td>3422.000000</td>\n",
              "      <td>3422.000000</td>\n",
              "      <td>3422.000000</td>\n",
              "      <td>3422.000000</td>\n",
              "      <td>3422.000000</td>\n",
              "      <td>3422.000000</td>\n",
              "      <td>3422.000000</td>\n",
              "      <td>3412.000000</td>\n",
              "      <td>3409.000000</td>\n",
              "      <td>3405.000000</td>\n",
              "      <td>3401.000000</td>\n",
              "    </tr>\n",
              "    <tr>\n",
              "      <th>mean</th>\n",
              "      <td>163.485681</td>\n",
              "      <td>-120.219170</td>\n",
              "      <td>-105.220923</td>\n",
              "      <td>-90.219170</td>\n",
              "      <td>-75.220923</td>\n",
              "      <td>-60.219170</td>\n",
              "      <td>-45.220923</td>\n",
              "      <td>-30.219170</td>\n",
              "      <td>-15.207773</td>\n",
              "      <td>-0.206020</td>\n",
              "      <td>14.862251</td>\n",
              "      <td>29.877383</td>\n",
              "      <td>44.872247</td>\n",
              "      <td>59.887092</td>\n",
              "      <td>4.767329</td>\n",
              "      <td>4.757510</td>\n",
              "      <td>4.756663</td>\n",
              "      <td>4.769784</td>\n",
              "      <td>4.775102</td>\n",
              "      <td>4.782817</td>\n",
              "      <td>4.788428</td>\n",
              "      <td>4.816803</td>\n",
              "      <td>5.040707</td>\n",
              "      <td>5.457122</td>\n",
              "      <td>5.575037</td>\n",
              "      <td>5.324229</td>\n",
              "      <td>5.148280</td>\n",
              "    </tr>\n",
              "    <tr>\n",
              "      <th>std</th>\n",
              "      <td>96.296551</td>\n",
              "      <td>4.763069</td>\n",
              "      <td>4.761883</td>\n",
              "      <td>4.763069</td>\n",
              "      <td>4.761883</td>\n",
              "      <td>4.763069</td>\n",
              "      <td>4.761883</td>\n",
              "      <td>4.763069</td>\n",
              "      <td>4.743564</td>\n",
              "      <td>4.744749</td>\n",
              "      <td>4.318229</td>\n",
              "      <td>4.359866</td>\n",
              "      <td>4.357599</td>\n",
              "      <td>4.412704</td>\n",
              "      <td>1.054175</td>\n",
              "      <td>1.049511</td>\n",
              "      <td>1.048235</td>\n",
              "      <td>1.046350</td>\n",
              "      <td>1.036958</td>\n",
              "      <td>1.032114</td>\n",
              "      <td>1.012711</td>\n",
              "      <td>0.992153</td>\n",
              "      <td>1.052762</td>\n",
              "      <td>1.189450</td>\n",
              "      <td>1.240734</td>\n",
              "      <td>1.169947</td>\n",
              "      <td>1.084418</td>\n",
              "    </tr>\n",
              "    <tr>\n",
              "      <th>min</th>\n",
              "      <td>3.000000</td>\n",
              "      <td>-176.000000</td>\n",
              "      <td>-161.000000</td>\n",
              "      <td>-146.000000</td>\n",
              "      <td>-131.000000</td>\n",
              "      <td>-116.000000</td>\n",
              "      <td>-101.000000</td>\n",
              "      <td>-86.000000</td>\n",
              "      <td>-71.000000</td>\n",
              "      <td>-56.000000</td>\n",
              "      <td>8.000000</td>\n",
              "      <td>22.000000</td>\n",
              "      <td>38.000000</td>\n",
              "      <td>52.000000</td>\n",
              "      <td>2.200000</td>\n",
              "      <td>2.200000</td>\n",
              "      <td>2.200000</td>\n",
              "      <td>2.200000</td>\n",
              "      <td>2.200000</td>\n",
              "      <td>2.200000</td>\n",
              "      <td>2.200000</td>\n",
              "      <td>2.200000</td>\n",
              "      <td>2.200000</td>\n",
              "      <td>2.200000</td>\n",
              "      <td>2.200000</td>\n",
              "      <td>2.200000</td>\n",
              "      <td>2.200000</td>\n",
              "    </tr>\n",
              "    <tr>\n",
              "      <th>25%</th>\n",
              "      <td>77.000000</td>\n",
              "      <td>-124.000000</td>\n",
              "      <td>-109.000000</td>\n",
              "      <td>-94.000000</td>\n",
              "      <td>-79.000000</td>\n",
              "      <td>-64.000000</td>\n",
              "      <td>-49.000000</td>\n",
              "      <td>-34.000000</td>\n",
              "      <td>-19.000000</td>\n",
              "      <td>-4.000000</td>\n",
              "      <td>11.000000</td>\n",
              "      <td>26.000000</td>\n",
              "      <td>41.000000</td>\n",
              "      <td>56.000000</td>\n",
              "      <td>4.100000</td>\n",
              "      <td>4.100000</td>\n",
              "      <td>4.100000</td>\n",
              "      <td>4.100000</td>\n",
              "      <td>4.100000</td>\n",
              "      <td>4.100000</td>\n",
              "      <td>4.100000</td>\n",
              "      <td>4.100000</td>\n",
              "      <td>4.300000</td>\n",
              "      <td>4.700000</td>\n",
              "      <td>4.700000</td>\n",
              "      <td>4.600000</td>\n",
              "      <td>4.400000</td>\n",
              "    </tr>\n",
              "    <tr>\n",
              "      <th>50%</th>\n",
              "      <td>147.000000</td>\n",
              "      <td>-120.000000</td>\n",
              "      <td>-105.000000</td>\n",
              "      <td>-90.000000</td>\n",
              "      <td>-75.000000</td>\n",
              "      <td>-60.000000</td>\n",
              "      <td>-45.000000</td>\n",
              "      <td>-30.000000</td>\n",
              "      <td>-15.000000</td>\n",
              "      <td>0.000000</td>\n",
              "      <td>15.000000</td>\n",
              "      <td>30.000000</td>\n",
              "      <td>45.000000</td>\n",
              "      <td>60.000000</td>\n",
              "      <td>4.700000</td>\n",
              "      <td>4.700000</td>\n",
              "      <td>4.700000</td>\n",
              "      <td>4.700000</td>\n",
              "      <td>4.700000</td>\n",
              "      <td>4.700000</td>\n",
              "      <td>4.700000</td>\n",
              "      <td>4.700000</td>\n",
              "      <td>5.000000</td>\n",
              "      <td>5.400000</td>\n",
              "      <td>5.400000</td>\n",
              "      <td>5.200000</td>\n",
              "      <td>5.000000</td>\n",
              "    </tr>\n",
              "    <tr>\n",
              "      <th>75%</th>\n",
              "      <td>240.000000</td>\n",
              "      <td>-116.000000</td>\n",
              "      <td>-101.000000</td>\n",
              "      <td>-86.000000</td>\n",
              "      <td>-71.000000</td>\n",
              "      <td>-56.000000</td>\n",
              "      <td>-41.000000</td>\n",
              "      <td>-26.000000</td>\n",
              "      <td>-11.000000</td>\n",
              "      <td>4.000000</td>\n",
              "      <td>19.000000</td>\n",
              "      <td>34.000000</td>\n",
              "      <td>49.000000</td>\n",
              "      <td>64.000000</td>\n",
              "      <td>5.300000</td>\n",
              "      <td>5.300000</td>\n",
              "      <td>5.300000</td>\n",
              "      <td>5.300000</td>\n",
              "      <td>5.300000</td>\n",
              "      <td>5.300000</td>\n",
              "      <td>5.300000</td>\n",
              "      <td>5.400000</td>\n",
              "      <td>5.700000</td>\n",
              "      <td>6.100000</td>\n",
              "      <td>6.300000</td>\n",
              "      <td>6.000000</td>\n",
              "      <td>5.800000</td>\n",
              "    </tr>\n",
              "    <tr>\n",
              "      <th>max</th>\n",
              "      <td>338.000000</td>\n",
              "      <td>-113.000000</td>\n",
              "      <td>-98.000000</td>\n",
              "      <td>-83.000000</td>\n",
              "      <td>-68.000000</td>\n",
              "      <td>-53.000000</td>\n",
              "      <td>-38.000000</td>\n",
              "      <td>-23.000000</td>\n",
              "      <td>-8.000000</td>\n",
              "      <td>7.000000</td>\n",
              "      <td>22.000000</td>\n",
              "      <td>52.000000</td>\n",
              "      <td>67.000000</td>\n",
              "      <td>101.000000</td>\n",
              "      <td>12.300000</td>\n",
              "      <td>12.300000</td>\n",
              "      <td>10.900000</td>\n",
              "      <td>10.200000</td>\n",
              "      <td>10.900000</td>\n",
              "      <td>10.900000</td>\n",
              "      <td>12.300000</td>\n",
              "      <td>10.800000</td>\n",
              "      <td>11.000000</td>\n",
              "      <td>11.600000</td>\n",
              "      <td>11.800000</td>\n",
              "      <td>11.800000</td>\n",
              "      <td>11.800000</td>\n",
              "    </tr>\n",
              "  </tbody>\n",
              "</table>\n",
              "</div>"
            ],
            "text/plain": [
              "            Folder  reltime_min_-8  ...  glucose_mmol_L_pt 3  glucose_mmol_L_pt 4\n",
              "count  3422.000000     3422.000000  ...          3405.000000          3401.000000\n",
              "mean    163.485681     -120.219170  ...             5.324229             5.148280\n",
              "std      96.296551        4.763069  ...             1.169947             1.084418\n",
              "min       3.000000     -176.000000  ...             2.200000             2.200000\n",
              "25%      77.000000     -124.000000  ...             4.600000             4.400000\n",
              "50%     147.000000     -120.000000  ...             5.200000             5.000000\n",
              "75%     240.000000     -116.000000  ...             6.000000             5.800000\n",
              "max     338.000000     -113.000000  ...            11.800000            11.800000\n",
              "\n",
              "[8 rows x 27 columns]"
            ]
          },
          "metadata": {},
          "execution_count": 16
        }
      ]
    },
    {
      "cell_type": "code",
      "metadata": {
        "colab": {
          "base_uri": "https://localhost:8080/"
        },
        "id": "1tLyREHC735F",
        "outputId": "c2e462b1-8ec8-4fec-ff91-c64ef70ae5a5"
      },
      "source": [
        "n_patients_w_gluc=len(pd.unique(df_filt[\"Folder\"]))\n",
        "patients_w_gluc=sorted(pd.unique(df_filt[\"Folder\"]))\n",
        "print(\"number of patients with images and blood glucose measured:\",n_patients_w_gluc)"
      ],
      "execution_count": null,
      "outputs": [
        {
          "output_type": "stream",
          "name": "stdout",
          "text": [
            "number of patients with images and blood glucose measured: 117\n"
          ]
        }
      ]
    },
    {
      "cell_type": "code",
      "metadata": {
        "colab": {
          "base_uri": "https://localhost:8080/",
          "height": 448
        },
        "id": "dokG5tiVtQED",
        "outputId": "f83d9e48-dc2f-46f8-d973-ed8249fd4126"
      },
      "source": [
        "#peak values\n",
        "peaks_glucose_values=np.max(gluc_datapoints,axis=1)\n",
        "df_filt[\"peaks_glucose_values\"]=peaks_glucose_values\n",
        "\n",
        "\n",
        "df_filt_gluc=df_filt[[\"glucose_mmol_L_pt -8\",\"glucose_mmol_L_pt -7\",\"glucose_mmol_L_pt -6\",\"glucose_mmol_L_pt -5\",\"glucose_mmol_L_pt -4\",\n",
        "            \"glucose_mmol_L_pt -3\",\"glucose_mmol_L_pt -2\",\"glucose_mmol_L_pt -1\",\"glucose_mmol_L_pt 0\",\"glucose_mmol_L_pt 1\",\"glucose_mmol_L_pt 2\",\n",
        "            \"glucose_mmol_L_pt 3\",\"glucose_mmol_L_pt 4\",]]\n",
        "#df_filt_gluc=df_filt_gluc.fillna(1000)\n",
        "import heapq\n",
        "smallest = df_filt_gluc.apply(lambda x: heapq.nsmallest(3, x), axis=1)\n",
        "smallest=np.vstack(smallest)\n",
        "df_filt[\"3lowest_glucose_values\"]=np.mean(smallest,axis=1)\n",
        "df_filt[\"3lowest_glucose_values\"]=np.mean(smallest,axis=1)\n",
        "df_filt[\"change_peak_w_lowest\"]=df_filt[\"peaks_glucose_values\"]-df_filt[\"3lowest_glucose_values\"]\n",
        "df_filt"
      ],
      "execution_count": null,
      "outputs": [
        {
          "output_type": "execute_result",
          "data": {
            "text/html": [
              "<div>\n",
              "<style scoped>\n",
              "    .dataframe tbody tr th:only-of-type {\n",
              "        vertical-align: middle;\n",
              "    }\n",
              "\n",
              "    .dataframe tbody tr th {\n",
              "        vertical-align: top;\n",
              "    }\n",
              "\n",
              "    .dataframe thead th {\n",
              "        text-align: right;\n",
              "    }\n",
              "</style>\n",
              "<table border=\"1\" class=\"dataframe\">\n",
              "  <thead>\n",
              "    <tr style=\"text-align: right;\">\n",
              "      <th></th>\n",
              "      <th>Folder</th>\n",
              "      <th>Filename</th>\n",
              "      <th>reltime_min_-8</th>\n",
              "      <th>reltime_min_-7</th>\n",
              "      <th>reltime_min_-6</th>\n",
              "      <th>reltime_min_-5</th>\n",
              "      <th>reltime_min_-4</th>\n",
              "      <th>reltime_min_-3</th>\n",
              "      <th>reltime_min_-2</th>\n",
              "      <th>reltime_min_-1</th>\n",
              "      <th>reltime_min_0</th>\n",
              "      <th>reltime_min_1</th>\n",
              "      <th>reltime_min_2</th>\n",
              "      <th>reltime_min_3</th>\n",
              "      <th>reltime_min_4</th>\n",
              "      <th>glucose_mmol_L_pt -8</th>\n",
              "      <th>glucose_mmol_L_pt -7</th>\n",
              "      <th>glucose_mmol_L_pt -6</th>\n",
              "      <th>glucose_mmol_L_pt -5</th>\n",
              "      <th>glucose_mmol_L_pt -4</th>\n",
              "      <th>glucose_mmol_L_pt -3</th>\n",
              "      <th>glucose_mmol_L_pt -2</th>\n",
              "      <th>glucose_mmol_L_pt -1</th>\n",
              "      <th>glucose_mmol_L_pt 0</th>\n",
              "      <th>glucose_mmol_L_pt 1</th>\n",
              "      <th>glucose_mmol_L_pt 2</th>\n",
              "      <th>glucose_mmol_L_pt 3</th>\n",
              "      <th>glucose_mmol_L_pt 4</th>\n",
              "      <th>peaks_glucose_values</th>\n",
              "      <th>3lowest_glucose_values</th>\n",
              "      <th>change_peak_w_lowest</th>\n",
              "    </tr>\n",
              "  </thead>\n",
              "  <tbody>\n",
              "    <tr>\n",
              "      <th>0</th>\n",
              "      <td>327</td>\n",
              "      <td>IMG_20190307_130615.jpg</td>\n",
              "      <td>-113.0</td>\n",
              "      <td>-98.0</td>\n",
              "      <td>-83.0</td>\n",
              "      <td>-68.0</td>\n",
              "      <td>-53.0</td>\n",
              "      <td>-38.0</td>\n",
              "      <td>-23.0</td>\n",
              "      <td>-8.0</td>\n",
              "      <td>7.0</td>\n",
              "      <td>22.0</td>\n",
              "      <td>37.0</td>\n",
              "      <td>52.0</td>\n",
              "      <td>67.0</td>\n",
              "      <td>3.8</td>\n",
              "      <td>3.3</td>\n",
              "      <td>3.2</td>\n",
              "      <td>2.8</td>\n",
              "      <td>2.5</td>\n",
              "      <td>2.4</td>\n",
              "      <td>2.3</td>\n",
              "      <td>2.4</td>\n",
              "      <td>2.5</td>\n",
              "      <td>3.7</td>\n",
              "      <td>6.0</td>\n",
              "      <td>6.1</td>\n",
              "      <td>5.1</td>\n",
              "      <td>6.1</td>\n",
              "      <td>2.366667</td>\n",
              "      <td>3.73333</td>\n",
              "    </tr>\n",
              "    <tr>\n",
              "      <th>1</th>\n",
              "      <td>327</td>\n",
              "      <td>IMG_20190307_192048.jpg</td>\n",
              "      <td>-113.0</td>\n",
              "      <td>-98.0</td>\n",
              "      <td>-83.0</td>\n",
              "      <td>-68.0</td>\n",
              "      <td>-53.0</td>\n",
              "      <td>-38.0</td>\n",
              "      <td>-23.0</td>\n",
              "      <td>-8.0</td>\n",
              "      <td>7.0</td>\n",
              "      <td>22.0</td>\n",
              "      <td>37.0</td>\n",
              "      <td>52.0</td>\n",
              "      <td>67.0</td>\n",
              "      <td>4.4</td>\n",
              "      <td>4.7</td>\n",
              "      <td>4.8</td>\n",
              "      <td>4.6</td>\n",
              "      <td>4.1</td>\n",
              "      <td>3.7</td>\n",
              "      <td>4.0</td>\n",
              "      <td>4.8</td>\n",
              "      <td>5.1</td>\n",
              "      <td>3.9</td>\n",
              "      <td>3.6</td>\n",
              "      <td>5.4</td>\n",
              "      <td>5.9</td>\n",
              "      <td>5.9</td>\n",
              "      <td>3.733333</td>\n",
              "      <td>2.16667</td>\n",
              "    </tr>\n",
              "    <tr>\n",
              "      <th>2</th>\n",
              "      <td>327</td>\n",
              "      <td>IMG_20190307_204505.jpg</td>\n",
              "      <td>-122.0</td>\n",
              "      <td>-107.0</td>\n",
              "      <td>-92.0</td>\n",
              "      <td>-77.0</td>\n",
              "      <td>-62.0</td>\n",
              "      <td>-47.0</td>\n",
              "      <td>-32.0</td>\n",
              "      <td>-17.0</td>\n",
              "      <td>-2.0</td>\n",
              "      <td>13.0</td>\n",
              "      <td>28.0</td>\n",
              "      <td>43.0</td>\n",
              "      <td>58.0</td>\n",
              "      <td>3.7</td>\n",
              "      <td>4.0</td>\n",
              "      <td>4.8</td>\n",
              "      <td>5.1</td>\n",
              "      <td>3.9</td>\n",
              "      <td>3.6</td>\n",
              "      <td>5.4</td>\n",
              "      <td>5.9</td>\n",
              "      <td>4.6</td>\n",
              "      <td>3.7</td>\n",
              "      <td>3.5</td>\n",
              "      <td>5.6</td>\n",
              "      <td>6.8</td>\n",
              "      <td>6.8</td>\n",
              "      <td>3.600000</td>\n",
              "      <td>3.2</td>\n",
              "    </tr>\n",
              "    <tr>\n",
              "      <th>3</th>\n",
              "      <td>327</td>\n",
              "      <td>IMG_20190307_213128.jpg</td>\n",
              "      <td>-123.0</td>\n",
              "      <td>-108.0</td>\n",
              "      <td>-93.0</td>\n",
              "      <td>-78.0</td>\n",
              "      <td>-63.0</td>\n",
              "      <td>-48.0</td>\n",
              "      <td>-33.0</td>\n",
              "      <td>-18.0</td>\n",
              "      <td>-3.0</td>\n",
              "      <td>12.0</td>\n",
              "      <td>27.0</td>\n",
              "      <td>42.0</td>\n",
              "      <td>57.0</td>\n",
              "      <td>5.1</td>\n",
              "      <td>3.9</td>\n",
              "      <td>3.6</td>\n",
              "      <td>5.4</td>\n",
              "      <td>5.9</td>\n",
              "      <td>4.6</td>\n",
              "      <td>3.7</td>\n",
              "      <td>3.5</td>\n",
              "      <td>5.6</td>\n",
              "      <td>6.8</td>\n",
              "      <td>4.6</td>\n",
              "      <td>3.9</td>\n",
              "      <td>4.2</td>\n",
              "      <td>6.8</td>\n",
              "      <td>3.600000</td>\n",
              "      <td>3.2</td>\n",
              "    </tr>\n",
              "    <tr>\n",
              "      <th>4</th>\n",
              "      <td>327</td>\n",
              "      <td>IMG_20190307_213224.jpg</td>\n",
              "      <td>-124.0</td>\n",
              "      <td>-109.0</td>\n",
              "      <td>-94.0</td>\n",
              "      <td>-79.0</td>\n",
              "      <td>-64.0</td>\n",
              "      <td>-49.0</td>\n",
              "      <td>-34.0</td>\n",
              "      <td>-19.0</td>\n",
              "      <td>-4.0</td>\n",
              "      <td>11.0</td>\n",
              "      <td>26.0</td>\n",
              "      <td>41.0</td>\n",
              "      <td>56.0</td>\n",
              "      <td>5.1</td>\n",
              "      <td>3.9</td>\n",
              "      <td>3.6</td>\n",
              "      <td>5.4</td>\n",
              "      <td>5.9</td>\n",
              "      <td>4.6</td>\n",
              "      <td>3.7</td>\n",
              "      <td>3.5</td>\n",
              "      <td>5.6</td>\n",
              "      <td>6.8</td>\n",
              "      <td>4.6</td>\n",
              "      <td>3.9</td>\n",
              "      <td>4.2</td>\n",
              "      <td>6.8</td>\n",
              "      <td>3.600000</td>\n",
              "      <td>3.2</td>\n",
              "    </tr>\n",
              "    <tr>\n",
              "      <th>...</th>\n",
              "      <td>...</td>\n",
              "      <td>...</td>\n",
              "      <td>...</td>\n",
              "      <td>...</td>\n",
              "      <td>...</td>\n",
              "      <td>...</td>\n",
              "      <td>...</td>\n",
              "      <td>...</td>\n",
              "      <td>...</td>\n",
              "      <td>...</td>\n",
              "      <td>...</td>\n",
              "      <td>...</td>\n",
              "      <td>...</td>\n",
              "      <td>...</td>\n",
              "      <td>...</td>\n",
              "      <td>...</td>\n",
              "      <td>...</td>\n",
              "      <td>...</td>\n",
              "      <td>...</td>\n",
              "      <td>...</td>\n",
              "      <td>...</td>\n",
              "      <td>...</td>\n",
              "      <td>...</td>\n",
              "      <td>...</td>\n",
              "      <td>...</td>\n",
              "      <td>...</td>\n",
              "      <td>...</td>\n",
              "      <td>...</td>\n",
              "      <td>...</td>\n",
              "      <td>...</td>\n",
              "      <td>...</td>\n",
              "    </tr>\n",
              "    <tr>\n",
              "      <th>3913</th>\n",
              "      <td>112</td>\n",
              "      <td>IMG_3387.HEIC</td>\n",
              "      <td>-120.0</td>\n",
              "      <td>-105.0</td>\n",
              "      <td>-90.0</td>\n",
              "      <td>-75.0</td>\n",
              "      <td>-60.0</td>\n",
              "      <td>-45.0</td>\n",
              "      <td>-30.0</td>\n",
              "      <td>-15.0</td>\n",
              "      <td>0.0</td>\n",
              "      <td>15.0</td>\n",
              "      <td>30.0</td>\n",
              "      <td>45.0</td>\n",
              "      <td>60.0</td>\n",
              "      <td>5.6</td>\n",
              "      <td>4.8</td>\n",
              "      <td>5.0</td>\n",
              "      <td>5.6</td>\n",
              "      <td>5.7</td>\n",
              "      <td>5.6</td>\n",
              "      <td>5.3</td>\n",
              "      <td>4.7</td>\n",
              "      <td>4.8</td>\n",
              "      <td>5.1</td>\n",
              "      <td>5.4</td>\n",
              "      <td>5.6</td>\n",
              "      <td>5.6</td>\n",
              "      <td>5.7</td>\n",
              "      <td>4.766667</td>\n",
              "      <td>0.933333</td>\n",
              "    </tr>\n",
              "    <tr>\n",
              "      <th>3914</th>\n",
              "      <td>112</td>\n",
              "      <td>IMG_3388.HEIC</td>\n",
              "      <td>-126.0</td>\n",
              "      <td>-111.0</td>\n",
              "      <td>-96.0</td>\n",
              "      <td>-81.0</td>\n",
              "      <td>-66.0</td>\n",
              "      <td>-51.0</td>\n",
              "      <td>-36.0</td>\n",
              "      <td>-21.0</td>\n",
              "      <td>-6.0</td>\n",
              "      <td>9.0</td>\n",
              "      <td>24.0</td>\n",
              "      <td>39.0</td>\n",
              "      <td>54.0</td>\n",
              "      <td>4.1</td>\n",
              "      <td>4.1</td>\n",
              "      <td>4.1</td>\n",
              "      <td>4.2</td>\n",
              "      <td>4.3</td>\n",
              "      <td>4.4</td>\n",
              "      <td>4.3</td>\n",
              "      <td>4.3</td>\n",
              "      <td>4.4</td>\n",
              "      <td>4.6</td>\n",
              "      <td>4.6</td>\n",
              "      <td>4.5</td>\n",
              "      <td>4.5</td>\n",
              "      <td>4.6</td>\n",
              "      <td>4.100000</td>\n",
              "      <td>0.5</td>\n",
              "    </tr>\n",
              "    <tr>\n",
              "      <th>3915</th>\n",
              "      <td>112</td>\n",
              "      <td>IMG_3390.HEIC</td>\n",
              "      <td>-121.0</td>\n",
              "      <td>-106.0</td>\n",
              "      <td>-91.0</td>\n",
              "      <td>-76.0</td>\n",
              "      <td>-61.0</td>\n",
              "      <td>-46.0</td>\n",
              "      <td>-31.0</td>\n",
              "      <td>-16.0</td>\n",
              "      <td>-1.0</td>\n",
              "      <td>14.0</td>\n",
              "      <td>29.0</td>\n",
              "      <td>44.0</td>\n",
              "      <td>59.0</td>\n",
              "      <td>4.3</td>\n",
              "      <td>4.3</td>\n",
              "      <td>4.4</td>\n",
              "      <td>4.6</td>\n",
              "      <td>4.6</td>\n",
              "      <td>4.5</td>\n",
              "      <td>4.5</td>\n",
              "      <td>4.8</td>\n",
              "      <td>5.2</td>\n",
              "      <td>5.0</td>\n",
              "      <td>4.3</td>\n",
              "      <td>4.3</td>\n",
              "      <td>5.2</td>\n",
              "      <td>5.2</td>\n",
              "      <td>4.300000</td>\n",
              "      <td>0.9</td>\n",
              "    </tr>\n",
              "    <tr>\n",
              "      <th>3916</th>\n",
              "      <td>112</td>\n",
              "      <td>IMG_3391.HEIC</td>\n",
              "      <td>-117.0</td>\n",
              "      <td>-102.0</td>\n",
              "      <td>-87.0</td>\n",
              "      <td>-72.0</td>\n",
              "      <td>-57.0</td>\n",
              "      <td>-42.0</td>\n",
              "      <td>-27.0</td>\n",
              "      <td>-12.0</td>\n",
              "      <td>3.0</td>\n",
              "      <td>18.0</td>\n",
              "      <td>33.0</td>\n",
              "      <td>48.0</td>\n",
              "      <td>63.0</td>\n",
              "      <td>5.1</td>\n",
              "      <td>4.3</td>\n",
              "      <td>3.8</td>\n",
              "      <td>4.5</td>\n",
              "      <td>4.8</td>\n",
              "      <td>4.7</td>\n",
              "      <td>4.9</td>\n",
              "      <td>5.3</td>\n",
              "      <td>5.3</td>\n",
              "      <td>5.1</td>\n",
              "      <td>4.8</td>\n",
              "      <td>4.8</td>\n",
              "      <td>5.8</td>\n",
              "      <td>5.8</td>\n",
              "      <td>4.200000</td>\n",
              "      <td>1.6</td>\n",
              "    </tr>\n",
              "    <tr>\n",
              "      <th>3917</th>\n",
              "      <td>112</td>\n",
              "      <td>IMG_3392.HEIC</td>\n",
              "      <td>-118.0</td>\n",
              "      <td>-103.0</td>\n",
              "      <td>-88.0</td>\n",
              "      <td>-73.0</td>\n",
              "      <td>-58.0</td>\n",
              "      <td>-43.0</td>\n",
              "      <td>-28.0</td>\n",
              "      <td>-13.0</td>\n",
              "      <td>2.0</td>\n",
              "      <td>17.0</td>\n",
              "      <td>32.0</td>\n",
              "      <td>47.0</td>\n",
              "      <td>62.0</td>\n",
              "      <td>5.1</td>\n",
              "      <td>4.3</td>\n",
              "      <td>3.8</td>\n",
              "      <td>4.5</td>\n",
              "      <td>4.8</td>\n",
              "      <td>4.7</td>\n",
              "      <td>4.9</td>\n",
              "      <td>5.3</td>\n",
              "      <td>5.3</td>\n",
              "      <td>5.1</td>\n",
              "      <td>4.8</td>\n",
              "      <td>4.8</td>\n",
              "      <td>5.8</td>\n",
              "      <td>5.8</td>\n",
              "      <td>4.200000</td>\n",
              "      <td>1.6</td>\n",
              "    </tr>\n",
              "  </tbody>\n",
              "</table>\n",
              "<p>3422 rows × 31 columns</p>\n",
              "</div>"
            ],
            "text/plain": [
              "      Folder  ... change_peak_w_lowest\n",
              "0        327  ...              3.73333\n",
              "1        327  ...              2.16667\n",
              "2        327  ...                  3.2\n",
              "3        327  ...                  3.2\n",
              "4        327  ...                  3.2\n",
              "...      ...  ...                  ...\n",
              "3913     112  ...             0.933333\n",
              "3914     112  ...                  0.5\n",
              "3915     112  ...                  0.9\n",
              "3916     112  ...                  1.6\n",
              "3917     112  ...                  1.6\n",
              "\n",
              "[3422 rows x 31 columns]"
            ]
          },
          "metadata": {},
          "execution_count": 22
        }
      ]
    },
    {
      "cell_type": "markdown",
      "metadata": {
        "id": "PiiVtTY1aVTW"
      },
      "source": [
        "## **Load raw images**"
      ]
    },
    {
      "cell_type": "code",
      "metadata": {
        "id": "YiVhDsVw7kFp"
      },
      "source": [
        "from os import listdir\n",
        "from matplotlib import image\n",
        "from skimage.transform import resize\n",
        "import cv2\n",
        "drive_path = 'drive/MyDrive/DTU/DeepLearning/Deep_learning_Project/data/' #if working in mac, write gdrive instead of drive\n",
        "\n",
        "#convert list of ints of patients to string to be read by the image loading:\n",
        "list_patients_w_gluc=[str(x) for x in patients_w_gluc]\n",
        "\n",
        "# load all images in a directory\n",
        "loaded_images = list()\n",
        "images_filename=[]\n",
        "list_patients = list_patients_w_gluc[5:80]#[\"68\",\"303\"] # # list_patients_w_gluc[10:15]\n",
        "size_images=64\n",
        "\n",
        "\n",
        "for patient in list_patients:\n",
        "  print(patient)\n",
        "  for filename in listdir(drive_path+patient+'/'):\n",
        "    # load image\n",
        "  # img_data = image.imread(drive_path+'68/'+filename)\n",
        "    image_cv2 = cv2.imread(drive_path+patient+'/'+filename)\n",
        "    new_image = resize(image_cv2, output_shape=(size_images, size_images), mode='reflect', anti_aliasing=True)\n",
        "  #  new_image = image_cv2.resize((32, 32))\n",
        "\n",
        "    # store loaded image\n",
        "    #img_data\n",
        "    #img_data_flat = img_data.flatten()\n",
        "    loaded_images.append(new_image)\n",
        "    images_filename.append(filename+\"_\"+patient)\n",
        "\n",
        "    #print('> loaded %s %s' % (filename, img_data.shape))\n",
        "\n",
        "print(\"loaded images: \", len(loaded_images))\n",
        "print(\"loaded images filenames: \", images_filename)"
      ],
      "execution_count": null,
      "outputs": []
    },
    {
      "cell_type": "markdown",
      "source": [
        "## **Load segmented images**"
      ],
      "metadata": {
        "id": "x4wCG9c28pvf"
      }
    },
    {
      "cell_type": "code",
      "metadata": {
        "id": "9-jN5AkqwKpJ"
      },
      "source": [
        "drive_path_segmented = 'drive/MyDrive/DTU/DeepLearning/Deep_learning_Project/segmentation_data/segmented_images/COPSAC_segmented/' #if working in mac, write gdrive instead of drive\n",
        "\n",
        "# load all images in a directory\n",
        "loaded_images_segmented = list()\n",
        "images_filename_segmented=[]\n",
        "\n",
        "for patient in list_patients:\n",
        "  print(patient)\n",
        "  for filename in listdir(drive_path_segmented+patient+'/'):\n",
        "    # load image\n",
        "  # img_data = image.imread(drive_path+'68/'+filename)\n",
        "    image_cv2 = cv2.imread(drive_path_segmented+patient+'/'+filename)\n",
        "    new_image = resize(image_cv2, output_shape=(size_images, size_images), mode='reflect', anti_aliasing=True)\n",
        "  #  new_image = image_cv2.resize((32, 32))\n",
        "\n",
        "    # store loaded image\n",
        "    #img_data\n",
        "    #img_data_flat = img_data.flatten()\n",
        "    loaded_images_segmented.append(new_image)\n",
        "    images_filename_segmented.append(filename+\"_\"+patient)\n",
        "\n",
        "    #print('> loaded %s %s' % (filename, img_data.shape))\n",
        "\n",
        "print(\"loaded images segmented: \", len(loaded_images_segmented))\n",
        "print(\"loaded images segmented filenames: \", images_filename_segmented)"
      ],
      "execution_count": null,
      "outputs": []
    },
    {
      "cell_type": "code",
      "metadata": {
        "id": "BFvg5g8qALOS"
      },
      "source": [
        "#rename image filenames in df* with glucose data\n",
        "for idx, row in df_filt.iterrows():\n",
        "        df_filt.loc[idx,'Filename'] = str(df_filt[[\"Filename\"]].loc[idx][0])+ \"_\"+str(df_filt[[\"Folder\"]].loc[idx][0])"
      ],
      "execution_count": null,
      "outputs": []
    },
    {
      "cell_type": "code",
      "metadata": {
        "colab": {
          "base_uri": "https://localhost:8080/",
          "height": 448
        },
        "id": "rmdHzRVDaOIa",
        "outputId": "c92dff65-dc01-406b-ff6d-cc9611b9672d"
      },
      "source": [
        "df_filt.dropna(axis='rows')"
      ],
      "execution_count": null,
      "outputs": [
        {
          "output_type": "execute_result",
          "data": {
            "text/html": [
              "<div>\n",
              "<style scoped>\n",
              "    .dataframe tbody tr th:only-of-type {\n",
              "        vertical-align: middle;\n",
              "    }\n",
              "\n",
              "    .dataframe tbody tr th {\n",
              "        vertical-align: top;\n",
              "    }\n",
              "\n",
              "    .dataframe thead th {\n",
              "        text-align: right;\n",
              "    }\n",
              "</style>\n",
              "<table border=\"1\" class=\"dataframe\">\n",
              "  <thead>\n",
              "    <tr style=\"text-align: right;\">\n",
              "      <th></th>\n",
              "      <th>Folder</th>\n",
              "      <th>Filename</th>\n",
              "      <th>reltime_min_-8</th>\n",
              "      <th>reltime_min_-7</th>\n",
              "      <th>reltime_min_-6</th>\n",
              "      <th>reltime_min_-5</th>\n",
              "      <th>reltime_min_-4</th>\n",
              "      <th>reltime_min_-3</th>\n",
              "      <th>reltime_min_-2</th>\n",
              "      <th>reltime_min_-1</th>\n",
              "      <th>reltime_min_0</th>\n",
              "      <th>reltime_min_1</th>\n",
              "      <th>reltime_min_2</th>\n",
              "      <th>reltime_min_3</th>\n",
              "      <th>reltime_min_4</th>\n",
              "      <th>glucose_mmol_L_pt -8</th>\n",
              "      <th>glucose_mmol_L_pt -7</th>\n",
              "      <th>glucose_mmol_L_pt -6</th>\n",
              "      <th>glucose_mmol_L_pt -5</th>\n",
              "      <th>glucose_mmol_L_pt -4</th>\n",
              "      <th>glucose_mmol_L_pt -3</th>\n",
              "      <th>glucose_mmol_L_pt -2</th>\n",
              "      <th>glucose_mmol_L_pt -1</th>\n",
              "      <th>glucose_mmol_L_pt 0</th>\n",
              "      <th>glucose_mmol_L_pt 1</th>\n",
              "      <th>glucose_mmol_L_pt 2</th>\n",
              "      <th>glucose_mmol_L_pt 3</th>\n",
              "      <th>glucose_mmol_L_pt 4</th>\n",
              "      <th>peaks_glucose_values</th>\n",
              "      <th>3lowest_glucose_values</th>\n",
              "      <th>change_peak_w_lowest</th>\n",
              "    </tr>\n",
              "  </thead>\n",
              "  <tbody>\n",
              "    <tr>\n",
              "      <th>0</th>\n",
              "      <td>327</td>\n",
              "      <td>IMG_20190307_130615.jpg_327</td>\n",
              "      <td>-113.0</td>\n",
              "      <td>-98.0</td>\n",
              "      <td>-83.0</td>\n",
              "      <td>-68.0</td>\n",
              "      <td>-53.0</td>\n",
              "      <td>-38.0</td>\n",
              "      <td>-23.0</td>\n",
              "      <td>-8.0</td>\n",
              "      <td>7.0</td>\n",
              "      <td>22.0</td>\n",
              "      <td>37.0</td>\n",
              "      <td>52.0</td>\n",
              "      <td>67.0</td>\n",
              "      <td>3.8</td>\n",
              "      <td>3.3</td>\n",
              "      <td>3.2</td>\n",
              "      <td>2.8</td>\n",
              "      <td>2.5</td>\n",
              "      <td>2.4</td>\n",
              "      <td>2.3</td>\n",
              "      <td>2.4</td>\n",
              "      <td>2.5</td>\n",
              "      <td>3.7</td>\n",
              "      <td>6.0</td>\n",
              "      <td>6.1</td>\n",
              "      <td>5.1</td>\n",
              "      <td>6.1</td>\n",
              "      <td>2.366667</td>\n",
              "      <td>3.73333</td>\n",
              "    </tr>\n",
              "    <tr>\n",
              "      <th>1</th>\n",
              "      <td>327</td>\n",
              "      <td>IMG_20190307_192048.jpg_327</td>\n",
              "      <td>-113.0</td>\n",
              "      <td>-98.0</td>\n",
              "      <td>-83.0</td>\n",
              "      <td>-68.0</td>\n",
              "      <td>-53.0</td>\n",
              "      <td>-38.0</td>\n",
              "      <td>-23.0</td>\n",
              "      <td>-8.0</td>\n",
              "      <td>7.0</td>\n",
              "      <td>22.0</td>\n",
              "      <td>37.0</td>\n",
              "      <td>52.0</td>\n",
              "      <td>67.0</td>\n",
              "      <td>4.4</td>\n",
              "      <td>4.7</td>\n",
              "      <td>4.8</td>\n",
              "      <td>4.6</td>\n",
              "      <td>4.1</td>\n",
              "      <td>3.7</td>\n",
              "      <td>4.0</td>\n",
              "      <td>4.8</td>\n",
              "      <td>5.1</td>\n",
              "      <td>3.9</td>\n",
              "      <td>3.6</td>\n",
              "      <td>5.4</td>\n",
              "      <td>5.9</td>\n",
              "      <td>5.9</td>\n",
              "      <td>3.733333</td>\n",
              "      <td>2.16667</td>\n",
              "    </tr>\n",
              "    <tr>\n",
              "      <th>2</th>\n",
              "      <td>327</td>\n",
              "      <td>IMG_20190307_204505.jpg_327</td>\n",
              "      <td>-122.0</td>\n",
              "      <td>-107.0</td>\n",
              "      <td>-92.0</td>\n",
              "      <td>-77.0</td>\n",
              "      <td>-62.0</td>\n",
              "      <td>-47.0</td>\n",
              "      <td>-32.0</td>\n",
              "      <td>-17.0</td>\n",
              "      <td>-2.0</td>\n",
              "      <td>13.0</td>\n",
              "      <td>28.0</td>\n",
              "      <td>43.0</td>\n",
              "      <td>58.0</td>\n",
              "      <td>3.7</td>\n",
              "      <td>4.0</td>\n",
              "      <td>4.8</td>\n",
              "      <td>5.1</td>\n",
              "      <td>3.9</td>\n",
              "      <td>3.6</td>\n",
              "      <td>5.4</td>\n",
              "      <td>5.9</td>\n",
              "      <td>4.6</td>\n",
              "      <td>3.7</td>\n",
              "      <td>3.5</td>\n",
              "      <td>5.6</td>\n",
              "      <td>6.8</td>\n",
              "      <td>6.8</td>\n",
              "      <td>3.600000</td>\n",
              "      <td>3.2</td>\n",
              "    </tr>\n",
              "    <tr>\n",
              "      <th>3</th>\n",
              "      <td>327</td>\n",
              "      <td>IMG_20190307_213128.jpg_327</td>\n",
              "      <td>-123.0</td>\n",
              "      <td>-108.0</td>\n",
              "      <td>-93.0</td>\n",
              "      <td>-78.0</td>\n",
              "      <td>-63.0</td>\n",
              "      <td>-48.0</td>\n",
              "      <td>-33.0</td>\n",
              "      <td>-18.0</td>\n",
              "      <td>-3.0</td>\n",
              "      <td>12.0</td>\n",
              "      <td>27.0</td>\n",
              "      <td>42.0</td>\n",
              "      <td>57.0</td>\n",
              "      <td>5.1</td>\n",
              "      <td>3.9</td>\n",
              "      <td>3.6</td>\n",
              "      <td>5.4</td>\n",
              "      <td>5.9</td>\n",
              "      <td>4.6</td>\n",
              "      <td>3.7</td>\n",
              "      <td>3.5</td>\n",
              "      <td>5.6</td>\n",
              "      <td>6.8</td>\n",
              "      <td>4.6</td>\n",
              "      <td>3.9</td>\n",
              "      <td>4.2</td>\n",
              "      <td>6.8</td>\n",
              "      <td>3.600000</td>\n",
              "      <td>3.2</td>\n",
              "    </tr>\n",
              "    <tr>\n",
              "      <th>4</th>\n",
              "      <td>327</td>\n",
              "      <td>IMG_20190307_213224.jpg_327</td>\n",
              "      <td>-124.0</td>\n",
              "      <td>-109.0</td>\n",
              "      <td>-94.0</td>\n",
              "      <td>-79.0</td>\n",
              "      <td>-64.0</td>\n",
              "      <td>-49.0</td>\n",
              "      <td>-34.0</td>\n",
              "      <td>-19.0</td>\n",
              "      <td>-4.0</td>\n",
              "      <td>11.0</td>\n",
              "      <td>26.0</td>\n",
              "      <td>41.0</td>\n",
              "      <td>56.0</td>\n",
              "      <td>5.1</td>\n",
              "      <td>3.9</td>\n",
              "      <td>3.6</td>\n",
              "      <td>5.4</td>\n",
              "      <td>5.9</td>\n",
              "      <td>4.6</td>\n",
              "      <td>3.7</td>\n",
              "      <td>3.5</td>\n",
              "      <td>5.6</td>\n",
              "      <td>6.8</td>\n",
              "      <td>4.6</td>\n",
              "      <td>3.9</td>\n",
              "      <td>4.2</td>\n",
              "      <td>6.8</td>\n",
              "      <td>3.600000</td>\n",
              "      <td>3.2</td>\n",
              "    </tr>\n",
              "    <tr>\n",
              "      <th>...</th>\n",
              "      <td>...</td>\n",
              "      <td>...</td>\n",
              "      <td>...</td>\n",
              "      <td>...</td>\n",
              "      <td>...</td>\n",
              "      <td>...</td>\n",
              "      <td>...</td>\n",
              "      <td>...</td>\n",
              "      <td>...</td>\n",
              "      <td>...</td>\n",
              "      <td>...</td>\n",
              "      <td>...</td>\n",
              "      <td>...</td>\n",
              "      <td>...</td>\n",
              "      <td>...</td>\n",
              "      <td>...</td>\n",
              "      <td>...</td>\n",
              "      <td>...</td>\n",
              "      <td>...</td>\n",
              "      <td>...</td>\n",
              "      <td>...</td>\n",
              "      <td>...</td>\n",
              "      <td>...</td>\n",
              "      <td>...</td>\n",
              "      <td>...</td>\n",
              "      <td>...</td>\n",
              "      <td>...</td>\n",
              "      <td>...</td>\n",
              "      <td>...</td>\n",
              "      <td>...</td>\n",
              "      <td>...</td>\n",
              "    </tr>\n",
              "    <tr>\n",
              "      <th>3913</th>\n",
              "      <td>112</td>\n",
              "      <td>IMG_3387.HEIC_112</td>\n",
              "      <td>-120.0</td>\n",
              "      <td>-105.0</td>\n",
              "      <td>-90.0</td>\n",
              "      <td>-75.0</td>\n",
              "      <td>-60.0</td>\n",
              "      <td>-45.0</td>\n",
              "      <td>-30.0</td>\n",
              "      <td>-15.0</td>\n",
              "      <td>0.0</td>\n",
              "      <td>15.0</td>\n",
              "      <td>30.0</td>\n",
              "      <td>45.0</td>\n",
              "      <td>60.0</td>\n",
              "      <td>5.6</td>\n",
              "      <td>4.8</td>\n",
              "      <td>5.0</td>\n",
              "      <td>5.6</td>\n",
              "      <td>5.7</td>\n",
              "      <td>5.6</td>\n",
              "      <td>5.3</td>\n",
              "      <td>4.7</td>\n",
              "      <td>4.8</td>\n",
              "      <td>5.1</td>\n",
              "      <td>5.4</td>\n",
              "      <td>5.6</td>\n",
              "      <td>5.6</td>\n",
              "      <td>5.7</td>\n",
              "      <td>4.766667</td>\n",
              "      <td>0.933333</td>\n",
              "    </tr>\n",
              "    <tr>\n",
              "      <th>3914</th>\n",
              "      <td>112</td>\n",
              "      <td>IMG_3388.HEIC_112</td>\n",
              "      <td>-126.0</td>\n",
              "      <td>-111.0</td>\n",
              "      <td>-96.0</td>\n",
              "      <td>-81.0</td>\n",
              "      <td>-66.0</td>\n",
              "      <td>-51.0</td>\n",
              "      <td>-36.0</td>\n",
              "      <td>-21.0</td>\n",
              "      <td>-6.0</td>\n",
              "      <td>9.0</td>\n",
              "      <td>24.0</td>\n",
              "      <td>39.0</td>\n",
              "      <td>54.0</td>\n",
              "      <td>4.1</td>\n",
              "      <td>4.1</td>\n",
              "      <td>4.1</td>\n",
              "      <td>4.2</td>\n",
              "      <td>4.3</td>\n",
              "      <td>4.4</td>\n",
              "      <td>4.3</td>\n",
              "      <td>4.3</td>\n",
              "      <td>4.4</td>\n",
              "      <td>4.6</td>\n",
              "      <td>4.6</td>\n",
              "      <td>4.5</td>\n",
              "      <td>4.5</td>\n",
              "      <td>4.6</td>\n",
              "      <td>4.100000</td>\n",
              "      <td>0.5</td>\n",
              "    </tr>\n",
              "    <tr>\n",
              "      <th>3915</th>\n",
              "      <td>112</td>\n",
              "      <td>IMG_3390.HEIC_112</td>\n",
              "      <td>-121.0</td>\n",
              "      <td>-106.0</td>\n",
              "      <td>-91.0</td>\n",
              "      <td>-76.0</td>\n",
              "      <td>-61.0</td>\n",
              "      <td>-46.0</td>\n",
              "      <td>-31.0</td>\n",
              "      <td>-16.0</td>\n",
              "      <td>-1.0</td>\n",
              "      <td>14.0</td>\n",
              "      <td>29.0</td>\n",
              "      <td>44.0</td>\n",
              "      <td>59.0</td>\n",
              "      <td>4.3</td>\n",
              "      <td>4.3</td>\n",
              "      <td>4.4</td>\n",
              "      <td>4.6</td>\n",
              "      <td>4.6</td>\n",
              "      <td>4.5</td>\n",
              "      <td>4.5</td>\n",
              "      <td>4.8</td>\n",
              "      <td>5.2</td>\n",
              "      <td>5.0</td>\n",
              "      <td>4.3</td>\n",
              "      <td>4.3</td>\n",
              "      <td>5.2</td>\n",
              "      <td>5.2</td>\n",
              "      <td>4.300000</td>\n",
              "      <td>0.9</td>\n",
              "    </tr>\n",
              "    <tr>\n",
              "      <th>3916</th>\n",
              "      <td>112</td>\n",
              "      <td>IMG_3391.HEIC_112</td>\n",
              "      <td>-117.0</td>\n",
              "      <td>-102.0</td>\n",
              "      <td>-87.0</td>\n",
              "      <td>-72.0</td>\n",
              "      <td>-57.0</td>\n",
              "      <td>-42.0</td>\n",
              "      <td>-27.0</td>\n",
              "      <td>-12.0</td>\n",
              "      <td>3.0</td>\n",
              "      <td>18.0</td>\n",
              "      <td>33.0</td>\n",
              "      <td>48.0</td>\n",
              "      <td>63.0</td>\n",
              "      <td>5.1</td>\n",
              "      <td>4.3</td>\n",
              "      <td>3.8</td>\n",
              "      <td>4.5</td>\n",
              "      <td>4.8</td>\n",
              "      <td>4.7</td>\n",
              "      <td>4.9</td>\n",
              "      <td>5.3</td>\n",
              "      <td>5.3</td>\n",
              "      <td>5.1</td>\n",
              "      <td>4.8</td>\n",
              "      <td>4.8</td>\n",
              "      <td>5.8</td>\n",
              "      <td>5.8</td>\n",
              "      <td>4.200000</td>\n",
              "      <td>1.6</td>\n",
              "    </tr>\n",
              "    <tr>\n",
              "      <th>3917</th>\n",
              "      <td>112</td>\n",
              "      <td>IMG_3392.HEIC_112</td>\n",
              "      <td>-118.0</td>\n",
              "      <td>-103.0</td>\n",
              "      <td>-88.0</td>\n",
              "      <td>-73.0</td>\n",
              "      <td>-58.0</td>\n",
              "      <td>-43.0</td>\n",
              "      <td>-28.0</td>\n",
              "      <td>-13.0</td>\n",
              "      <td>2.0</td>\n",
              "      <td>17.0</td>\n",
              "      <td>32.0</td>\n",
              "      <td>47.0</td>\n",
              "      <td>62.0</td>\n",
              "      <td>5.1</td>\n",
              "      <td>4.3</td>\n",
              "      <td>3.8</td>\n",
              "      <td>4.5</td>\n",
              "      <td>4.8</td>\n",
              "      <td>4.7</td>\n",
              "      <td>4.9</td>\n",
              "      <td>5.3</td>\n",
              "      <td>5.3</td>\n",
              "      <td>5.1</td>\n",
              "      <td>4.8</td>\n",
              "      <td>4.8</td>\n",
              "      <td>5.8</td>\n",
              "      <td>5.8</td>\n",
              "      <td>4.200000</td>\n",
              "      <td>1.6</td>\n",
              "    </tr>\n",
              "  </tbody>\n",
              "</table>\n",
              "<p>3401 rows × 31 columns</p>\n",
              "</div>"
            ],
            "text/plain": [
              "      Folder  ... change_peak_w_lowest\n",
              "0        327  ...              3.73333\n",
              "1        327  ...              2.16667\n",
              "2        327  ...                  3.2\n",
              "3        327  ...                  3.2\n",
              "4        327  ...                  3.2\n",
              "...      ...  ...                  ...\n",
              "3913     112  ...             0.933333\n",
              "3914     112  ...                  0.5\n",
              "3915     112  ...                  0.9\n",
              "3916     112  ...                  1.6\n",
              "3917     112  ...                  1.6\n",
              "\n",
              "[3401 rows x 31 columns]"
            ]
          },
          "metadata": {},
          "execution_count": 31
        }
      ]
    },
    {
      "cell_type": "markdown",
      "metadata": {
        "id": "O0mrEIkddpIC"
      },
      "source": [
        "We have 1884 images with glucose measurements information, before checking how many of them were actually loaded."
      ]
    },
    {
      "cell_type": "code",
      "metadata": {
        "colab": {
          "base_uri": "https://localhost:8080/",
          "height": 428
        },
        "id": "f927o1hL-RJ4",
        "outputId": "60060c93-11bd-4205-9adf-43cdc4637ac5"
      },
      "source": [
        "#take rows of glucose data from the images loaded.\n",
        "data_patients_with_blood=df_filt[df_filt['Filename'].isin(images_filename)].reset_index()\n",
        "y_df=data_patients_with_blood[['Filename',\"change_peak_w_lowest\"]]\n",
        "print(\"Glucose change images patient loaded:\")\n",
        "y_df"
      ],
      "execution_count": null,
      "outputs": [
        {
          "output_type": "stream",
          "name": "stdout",
          "text": [
            "Glucose change images patient loaded:\n"
          ]
        },
        {
          "output_type": "execute_result",
          "data": {
            "text/html": [
              "<div>\n",
              "<style scoped>\n",
              "    .dataframe tbody tr th:only-of-type {\n",
              "        vertical-align: middle;\n",
              "    }\n",
              "\n",
              "    .dataframe tbody tr th {\n",
              "        vertical-align: top;\n",
              "    }\n",
              "\n",
              "    .dataframe thead th {\n",
              "        text-align: right;\n",
              "    }\n",
              "</style>\n",
              "<table border=\"1\" class=\"dataframe\">\n",
              "  <thead>\n",
              "    <tr style=\"text-align: right;\">\n",
              "      <th></th>\n",
              "      <th>Filename</th>\n",
              "      <th>change_peak_w_lowest</th>\n",
              "    </tr>\n",
              "  </thead>\n",
              "  <tbody>\n",
              "    <tr>\n",
              "      <th>0</th>\n",
              "      <td>IMG_5775.JPG_203</td>\n",
              "      <td>2.9</td>\n",
              "    </tr>\n",
              "    <tr>\n",
              "      <th>1</th>\n",
              "      <td>IMG_5782.JPG_203</td>\n",
              "      <td>4.03333</td>\n",
              "    </tr>\n",
              "    <tr>\n",
              "      <th>2</th>\n",
              "      <td>IMG_5801.JPG_203</td>\n",
              "      <td>2.56667</td>\n",
              "    </tr>\n",
              "    <tr>\n",
              "      <th>3</th>\n",
              "      <td>IMG_5804.JPG_203</td>\n",
              "      <td>2.6</td>\n",
              "    </tr>\n",
              "    <tr>\n",
              "      <th>4</th>\n",
              "      <td>IMG_5805.JPG_203</td>\n",
              "      <td>2.66667</td>\n",
              "    </tr>\n",
              "    <tr>\n",
              "      <th>...</th>\n",
              "      <td>...</td>\n",
              "      <td>...</td>\n",
              "    </tr>\n",
              "    <tr>\n",
              "      <th>1879</th>\n",
              "      <td>IMG_3533.JPG_26</td>\n",
              "      <td>1.86667</td>\n",
              "    </tr>\n",
              "    <tr>\n",
              "      <th>1880</th>\n",
              "      <td>IMG_3534.JPG_26</td>\n",
              "      <td>1.86667</td>\n",
              "    </tr>\n",
              "    <tr>\n",
              "      <th>1881</th>\n",
              "      <td>IMG_3535.JPG_26</td>\n",
              "      <td>1.86667</td>\n",
              "    </tr>\n",
              "    <tr>\n",
              "      <th>1882</th>\n",
              "      <td>IMG_3537.JPG_26</td>\n",
              "      <td>2.76667</td>\n",
              "    </tr>\n",
              "    <tr>\n",
              "      <th>1883</th>\n",
              "      <td>IMG_3540.JPG_26</td>\n",
              "      <td>0.666667</td>\n",
              "    </tr>\n",
              "  </tbody>\n",
              "</table>\n",
              "<p>1884 rows × 2 columns</p>\n",
              "</div>"
            ],
            "text/plain": [
              "              Filename change_peak_w_lowest\n",
              "0     IMG_5775.JPG_203                  2.9\n",
              "1     IMG_5782.JPG_203              4.03333\n",
              "2     IMG_5801.JPG_203              2.56667\n",
              "3     IMG_5804.JPG_203                  2.6\n",
              "4     IMG_5805.JPG_203              2.66667\n",
              "...                ...                  ...\n",
              "1879   IMG_3533.JPG_26              1.86667\n",
              "1880   IMG_3534.JPG_26              1.86667\n",
              "1881   IMG_3535.JPG_26              1.86667\n",
              "1882   IMG_3537.JPG_26              2.76667\n",
              "1883   IMG_3540.JPG_26             0.666667\n",
              "\n",
              "[1884 rows x 2 columns]"
            ]
          },
          "metadata": {},
          "execution_count": 32
        }
      ]
    },
    {
      "cell_type": "code",
      "metadata": {
        "colab": {
          "base_uri": "https://localhost:8080/"
        },
        "id": "5DcNuRAs3f4u",
        "outputId": "74664191-0fee-4c48-a14e-7203ebc9e269"
      },
      "source": [
        "y_df.isna().sum() "
      ],
      "execution_count": null,
      "outputs": [
        {
          "output_type": "execute_result",
          "data": {
            "text/plain": [
              "Filename                0\n",
              "change_peak_w_lowest    7\n",
              "dtype: int64"
            ]
          },
          "metadata": {},
          "execution_count": 33
        }
      ]
    },
    {
      "cell_type": "code",
      "metadata": {
        "colab": {
          "base_uri": "https://localhost:8080/"
        },
        "id": "21FpI37ZY_-Z",
        "outputId": "1cdad44b-7bd1-48da-c592-577f0ac710c9"
      },
      "source": [
        "len(y_df)"
      ],
      "execution_count": null,
      "outputs": [
        {
          "output_type": "execute_result",
          "data": {
            "text/plain": [
              "1884"
            ]
          },
          "metadata": {},
          "execution_count": 35
        }
      ]
    },
    {
      "cell_type": "markdown",
      "metadata": {
        "id": "hG-4BUold6TR"
      },
      "source": [
        "We have 1844 images loaded with glucose measurements."
      ]
    },
    {
      "cell_type": "code",
      "metadata": {
        "colab": {
          "base_uri": "https://localhost:8080/"
        },
        "id": "bSqvb4_veRk8",
        "outputId": "1695d16a-16f3-411b-c168-8221802d6206"
      },
      "source": [
        "boolean = data_patients_with_blood.duplicated(subset=['Filename']).any() # True\n",
        "boolean"
      ],
      "execution_count": null,
      "outputs": [
        {
          "output_type": "execute_result",
          "data": {
            "text/plain": [
              "False"
            ]
          },
          "metadata": {},
          "execution_count": 38
        }
      ]
    },
    {
      "cell_type": "code",
      "metadata": {
        "colab": {
          "base_uri": "https://localhost:8080/"
        },
        "id": "po3-GNoMYENJ",
        "outputId": "277c63d5-5434-483a-8ae6-419abf9834ad"
      },
      "source": [
        "#list of images ID with glucose data\n",
        "list_images_w_gluc=data_patients_with_blood[\"Filename\"].unique().tolist()\n",
        "len(list_images_w_gluc)"
      ],
      "execution_count": null,
      "outputs": [
        {
          "output_type": "execute_result",
          "data": {
            "text/plain": [
              "1884"
            ]
          },
          "metadata": {},
          "execution_count": 39
        }
      ]
    },
    {
      "cell_type": "code",
      "metadata": {
        "colab": {
          "base_uri": "https://localhost:8080/"
        },
        "id": "hA-h-fPEANmh",
        "outputId": "9dd6a13a-1a02-4842-cd23-49df9c9f01f0"
      },
      "source": [
        "#from all the loaded images....\n",
        "loaded_images_array=np.stack(loaded_images, axis=0 )#images are stack to create a matrix of images\n",
        "np.shape(loaded_images_array)"
      ],
      "execution_count": null,
      "outputs": [
        {
          "output_type": "execute_result",
          "data": {
            "text/plain": [
              "(3801, 64, 64, 3)"
            ]
          },
          "metadata": {},
          "execution_count": 40
        }
      ]
    },
    {
      "cell_type": "code",
      "metadata": {
        "colab": {
          "base_uri": "https://localhost:8080/"
        },
        "id": "HngrxbDBy6Jx",
        "outputId": "61c82ba3-0fdd-4682-eea4-9ff3da5d3fae"
      },
      "source": [
        "#from all the segmented images loaded....\n",
        "loaded_images_segmented_array=np.stack(loaded_images_segmented, axis=0 )#images are stack to create a matrix of images\n",
        "np.shape(loaded_images_segmented_array)"
      ],
      "execution_count": null,
      "outputs": [
        {
          "output_type": "execute_result",
          "data": {
            "text/plain": [
              "(3705, 64, 64, 3)"
            ]
          },
          "metadata": {},
          "execution_count": 41
        }
      ]
    },
    {
      "cell_type": "code",
      "metadata": {
        "colab": {
          "base_uri": "https://localhost:8080/"
        },
        "id": "rOVY7H9gioTq",
        "outputId": "465a593a-00b9-4e97-df6f-fc81646d11b2"
      },
      "source": [
        "#we select only the ones with blood glucose measurements\n",
        "# using list comprehension and enumerate()\n",
        "# Get match indices\n",
        "images_w_gluc_idx = [key for key, val in enumerate(images_filename)\n",
        "                      if val in set(list_images_w_gluc)]\n",
        "\n",
        "s_images_w_gluc_idx = [key for key, val in enumerate(images_filename_segmented)\n",
        "                      if val in set(list_images_w_gluc)]\n",
        "\n",
        "\n",
        "loaded_images_w_gluc=loaded_images_array[images_w_gluc_idx,:,:,:]\n",
        "loaded_segmented_images_w_gluc=loaded_images_segmented_array[s_images_w_gluc_idx,:,:,:]\n",
        "\n",
        "np.shape(loaded_segmented_images_w_gluc)"
      ],
      "execution_count": null,
      "outputs": [
        {
          "output_type": "execute_result",
          "data": {
            "text/plain": [
              "(1884, 64, 64, 3)"
            ]
          },
          "metadata": {},
          "execution_count": 42
        }
      ]
    },
    {
      "cell_type": "code",
      "metadata": {
        "id": "qD4VNvguVdEo"
      },
      "source": [
        "#vector with glucose data change, to be the response variable\n",
        "y=y_df[\"change_peak_w_lowest\"].to_numpy()"
      ],
      "execution_count": null,
      "outputs": []
    },
    {
      "cell_type": "code",
      "metadata": {
        "colab": {
          "base_uri": "https://localhost:8080/"
        },
        "id": "dF2lPasYG-du",
        "outputId": "41070d6e-6978-4461-b5f4-c543c5061f4d"
      },
      "source": [
        "idx_nan_gluc=y_df[y_df['change_peak_w_lowest'].isnull()].index.tolist()\n",
        "idx_nan_gluc"
      ],
      "execution_count": null,
      "outputs": [
        {
          "output_type": "execute_result",
          "data": {
            "text/plain": [
              "[606, 880, 1135, 1504, 1612, 1613, 1614]"
            ]
          },
          "metadata": {},
          "execution_count": 44
        }
      ]
    },
    {
      "cell_type": "markdown",
      "metadata": {
        "id": "c-rS4ZalIi8v"
      },
      "source": [
        "Delete images and response variables that are nans:"
      ]
    },
    {
      "cell_type": "code",
      "metadata": {
        "id": "F-eEw235H_Ix"
      },
      "source": [
        "y = np.delete(y, idx_nan_gluc,axis=0)\n",
        "loaded_images_w_gluc = np.delete(loaded_images_w_gluc, idx_nan_gluc,axis=0)\n",
        "loaded_segmented_images_w_gluc = np.delete(loaded_segmented_images_w_gluc, idx_nan_gluc,axis=0)\n"
      ],
      "execution_count": null,
      "outputs": []
    },
    {
      "cell_type": "code",
      "metadata": {
        "colab": {
          "base_uri": "https://localhost:8080/"
        },
        "id": "m6oA2yBdZ0ug",
        "outputId": "0c44ddde-c04c-405c-8bd6-c7f7999e38e3"
      },
      "source": [
        "np.shape(loaded_images_w_gluc)"
      ],
      "execution_count": null,
      "outputs": [
        {
          "output_type": "execute_result",
          "data": {
            "text/plain": [
              "(1877, 64, 64, 3)"
            ]
          },
          "metadata": {},
          "execution_count": 46
        }
      ]
    },
    {
      "cell_type": "code",
      "metadata": {
        "colab": {
          "base_uri": "https://localhost:8080/"
        },
        "id": "lzmr0nkuzVFO",
        "outputId": "3e493053-bdfd-471b-a369-fab2227de3ac"
      },
      "source": [
        "np.shape(loaded_segmented_images_w_gluc)"
      ],
      "execution_count": null,
      "outputs": [
        {
          "output_type": "execute_result",
          "data": {
            "text/plain": [
              "(1877, 64, 64, 3)"
            ]
          },
          "metadata": {},
          "execution_count": 47
        }
      ]
    },
    {
      "cell_type": "markdown",
      "source": [
        "Compute mean Glucose Change over all images with glucose data:"
      ],
      "metadata": {
        "id": "W8eMvM0k97lE"
      }
    },
    {
      "cell_type": "code",
      "metadata": {
        "id": "z0SH-vsV4zu7"
      },
      "source": [
        "y_mean=np.mean(y)*np.ones(len(y))"
      ],
      "execution_count": null,
      "outputs": []
    },
    {
      "cell_type": "code",
      "metadata": {
        "id": "HKWOQdQN_P5u"
      },
      "source": [
        "transform = transforms.Compose(\n",
        "    [transforms.ToTensor(),\n",
        "     transforms.Normalize((0.5, 0.5, 0.5),(0.5, 0.5, 0.5))\n",
        "    ]\n",
        ")"
      ],
      "execution_count": null,
      "outputs": []
    },
    {
      "cell_type": "markdown",
      "source": [
        "Train and test splits:"
      ],
      "metadata": {
        "id": "i3IXqNd95e0R"
      }
    },
    {
      "cell_type": "code",
      "metadata": {
        "id": "X7Km56_IGxt6"
      },
      "source": [
        "from torch.utils.data import DataLoader\n",
        "\n",
        "# Split into train and test\n",
        "from sklearn.model_selection import train_test_split\n",
        "X_train, X_test,y_train,y_test = train_test_split(loaded_images_w_gluc, y,test_size=0.2, random_state=1)\n",
        "\n",
        "s_X_train, s_X_test,y_train,y_test = train_test_split(loaded_segmented_images_w_gluc, y,test_size=0.2, random_state=1)"
      ],
      "execution_count": null,
      "outputs": []
    },
    {
      "cell_type": "code",
      "metadata": {
        "id": "sO-qC6MHZJbk"
      },
      "source": [
        "trainset = []\n",
        "for i in range(len(X_train)):\n",
        "   trainset.append([X_train[i], y_train[i]])\n",
        "\n",
        "testset = []\n",
        "for i in range(len(X_test)):\n",
        "   testset.append([X_test[i], y_test[i]])\n",
        "\n",
        "trainset_segmented = []\n",
        "for i in range(len(s_X_train)):\n",
        "   trainset_segmented.append([s_X_train[i], y_train[i]])\n",
        "\n",
        "testset_segmented = []\n",
        "for i in range(len(s_X_test)):\n",
        "   testset_segmented.append([s_X_test[i], y_test[i]])"
      ],
      "execution_count": null,
      "outputs": []
    },
    {
      "cell_type": "markdown",
      "source": [
        "Numpy to Tensors:"
      ],
      "metadata": {
        "id": "SeIxSFLy5hOl"
      }
    },
    {
      "cell_type": "code",
      "metadata": {
        "id": "MGOL0oqQLrfQ"
      },
      "source": [
        "batch_size = 128#np.int(len(trainset)/2)\n",
        "eval_batch_size = 64#np.int(len(testset)/2)\n",
        "\n",
        "# The loaders perform the actual work\n",
        "train_loader = DataLoader(trainset, batch_size=batch_size) #,sampler=stratified_sampler(dset_train.train_labels))\n",
        "test_loader  = DataLoader(testset, batch_size=eval_batch_size) #,sampler=stratified_sampler(dset_test.test_labels))\n",
        "train_loader_segmented = DataLoader(trainset_segmented, batch_size=batch_size) #,sampler=stratified_sampler(dset_train.train_labels))\n",
        "test_loader_segmented  = DataLoader(testset_segmented, batch_size=eval_batch_size) #,sampler=stratified_sampler(dset_test.test_labels))"
      ],
      "execution_count": null,
      "outputs": []
    },
    {
      "cell_type": "code",
      "metadata": {
        "colab": {
          "base_uri": "https://localhost:8080/"
        },
        "id": "p_EJIKXwLyk8",
        "outputId": "48913756-af76-42ab-fbfd-e5310124753a"
      },
      "source": [
        "print(\"# Training data\")\n",
        "print(\"Number of points:\", len(trainset))\n",
        "x,y = next(iter(train_loader))\n",
        "print(\"Batch dimension [B x C x H x W]:\", x.shape)\n",
        "\n",
        "print(\"\\n# Test data\")\n",
        "print(\"Number of points:\", len(testset))\n",
        "x,y = next(iter(test_loader))\n",
        "print(\"Batch dimension [B x C x H x W]:\", x.shape)"
      ],
      "execution_count": null,
      "outputs": [
        {
          "output_type": "stream",
          "name": "stdout",
          "text": [
            "# Training data\n",
            "Number of points: 1501\n",
            "Batch dimension [B x C x H x W]: torch.Size([128, 64, 64, 3])\n",
            "\n",
            "# Test data\n",
            "Number of points: 376\n",
            "Batch dimension [B x C x H x W]: torch.Size([64, 64, 64, 3])\n"
          ]
        }
      ]
    },
    {
      "cell_type": "code",
      "metadata": {
        "id": "seVtaTYYoH03"
      },
      "source": [
        "from torch.autograd import Variable\n",
        "import torch.nn as nn\n",
        "import torch.nn.functional as F\n",
        "from torch.autograd import Variable\n",
        "import torch.nn as nn\n",
        "import torch.nn.functional as F\n",
        "from torch.nn.functional import relu, elu, relu6, sigmoid, tanh, softmax"
      ],
      "execution_count": null,
      "outputs": []
    },
    {
      "cell_type": "markdown",
      "source": [
        "## **The CNN is defined:**"
      ],
      "metadata": {
        "id": "Xz7J8K6d5llj"
      }
    },
    {
      "cell_type": "code",
      "metadata": {
        "colab": {
          "base_uri": "https://localhost:8080/"
        },
        "id": "r4cSS1WMdOP4",
        "outputId": "4941130a-9e99-4e42-abd4-e57cd187da7e"
      },
      "source": [
        "\n",
        "#new version\n",
        "from torch.autograd import Variable\n",
        "import torch.nn as nn\n",
        "import torch.nn.functional as F\n",
        "from torch.autograd import Variable\n",
        "import torch.nn as nn\n",
        "import torch.nn.functional as F\n",
        "from torch.nn.functional import relu, elu, relu6, sigmoid, tanh, softmax\n",
        "\n",
        "channels = 3#trainset.Data.shape[3]\n",
        "width = size_images #trainset.Data.shape[2]\n",
        "height = size_images  #trainset.Data.shape[1]\n",
        "\n",
        "# 1st convolutional layer initialization\n",
        "kernel_size_conv1 = 5 # [height, width]\n",
        "num_filters_conv1 = 64\n",
        "stride_conv1 = 2\n",
        "padding_conv1 = 1 \n",
        "\n",
        "# Maxpool layer initialization\n",
        "#kernel_size_pool = \n",
        "#stride_pool = 2\n",
        "#padding_pool = 0\n",
        "\n",
        "# 2nd convolutional layer initialization\n",
        "kernel_size_conv2 = 4 # [height, width]\n",
        "num_filters_conv2 = 32\n",
        "stride_conv2 = 1\n",
        "padding_conv2 = 1 \n",
        "\n",
        "kernel_size_conv3 = 3 # [height, width]\n",
        "num_filters_conv3 = 16\n",
        "stride_conv3 = 1\n",
        "padding_conv3 = 1 \n",
        "\n",
        "kernel_size_conv4 = 3 # [height, width]\n",
        "num_filters_conv4 = 8\n",
        "stride_conv4 = 1\n",
        "padding_conv4 = 1 \n",
        "\n",
        "# Number of units in dense layer  \n",
        "num_l1 = 500\n",
        "\n",
        "def compute_conv_dim_1(dim_size, kernel_size, padding, stride):\n",
        "    return int((dim_size - kernel_size + 2 * padding) / stride + 1)\n",
        "\n",
        "class Net(nn.Module):\n",
        "    def __init__(self):\n",
        "      super(Net, self).__init__()\n",
        "      self.num_classes = 1    \n",
        "      # Convolutional layer\n",
        "      self.conv_1 = nn.Conv2d(in_channels=channels,\n",
        "                             out_channels=num_filters_conv1,\n",
        "                             kernel_size=kernel_size_conv1,\n",
        "                             stride=stride_conv1, padding = padding_conv1)\n",
        "\n",
        "      torch.nn.BatchNorm2d(num_filters_conv1)  \n",
        "      self.conv_1_out_height = compute_conv_dim_1(height,kernel_size_conv1,padding_conv1,stride_conv1)\n",
        "      self.conv_1_out_width = compute_conv_dim_1(width,kernel_size_conv1,padding_conv1,stride_conv1)\n",
        "\n",
        "      # Maxpooling layer\n",
        "      #self.pool = torch.nn.MaxPool2d(kernel_size=kernel_size_pool,\n",
        "      #                       stride=stride_pool, padding=padding_pool)\n",
        "        \n",
        "\n",
        "      #self.pool_out_height = compute_conv_dim_1(self.conv_1_out_height,kernel_size_pool,padding_pool,stride_pool)\n",
        "      #self.pool_out_width = compute_conv_dim_1(self.conv_1_out_width,kernel_size_pool,padding_pool,stride_pool)\n",
        "        \n",
        "        # 2nd Convolutional layer\n",
        "      self.conv_2 = nn.Conv2d(in_channels=num_filters_conv1,\n",
        "                             out_channels=num_filters_conv2,\n",
        "                             kernel_size=kernel_size_conv2,\n",
        "                             stride=stride_conv2, padding = padding_conv2)\n",
        "\n",
        "      torch.nn.BatchNorm2d(num_filters_conv2)  \n",
        "      self.conv_2_out_height = compute_conv_dim_1(self.conv_1_out_height,kernel_size_conv2,padding_conv2,stride_conv2)\n",
        "      self.conv_2_out_width = compute_conv_dim_1(self.conv_1_out_width,kernel_size_conv2,padding_conv2,stride_conv2)\n",
        "        \n",
        "        # 3rd Convolutional layer\n",
        "      self.conv_3 = nn.Conv2d(in_channels=num_filters_conv2,\n",
        "                             out_channels=num_filters_conv3,\n",
        "                             kernel_size=kernel_size_conv3,\n",
        "                             stride=stride_conv3, padding = padding_conv3)\n",
        "\n",
        "      torch.nn.BatchNorm2d(num_filters_conv3)  \n",
        "      self.conv_3_out_height = compute_conv_dim_1(self.conv_2_out_height,kernel_size_conv3,padding_conv3,stride_conv3)\n",
        "      self.conv_3_out_width = compute_conv_dim_1(self.conv_2_out_width,kernel_size_conv3,padding_conv3,stride_conv3)\n",
        "\n",
        "        # 4th Convolutional layer\n",
        "      self.conv_4 = nn.Conv2d(in_channels=num_filters_conv3,\n",
        "                             out_channels=num_filters_conv4,\n",
        "                             kernel_size=kernel_size_conv4,\n",
        "                             stride=stride_conv4, padding = padding_conv4)\n",
        "      \n",
        "      self.conv_4_out_height = compute_conv_dim_1(self.conv_3_out_height,kernel_size_conv4,padding_conv4,stride_conv4)\n",
        "      self.conv_4_out_width = compute_conv_dim_1(self.conv_3_out_width,kernel_size_conv4,padding_conv4,stride_conv4)\n",
        "\n",
        "        # add dropout to network\n",
        "      self.dropout = nn.Dropout2d(p=0.25)\n",
        "        \n",
        "      self.l1_in_features = num_filters_conv3 * self.conv_3_out_height * self.conv_3_out_width\n",
        "      self.l2_in_features = num_filters_conv2 * self.conv_2_out_height * self.conv_2_out_width\n",
        "\n",
        "        # self.l1_in_features = channels * height * width\n",
        "        \n",
        "      self.l_2 = nn.Linear(in_features=self.l1_in_features, \n",
        "                          out_features=num_l1,\n",
        "                          bias=True)\n",
        "      num_l2=100\n",
        "      self.l_1 = nn.Linear(in_features=num_l1, \n",
        "                          out_features=num_l2,\n",
        "                          bias=True)\n",
        "      num_l3=20\n",
        "\n",
        "      self.l_0 = nn.Linear(in_features=num_l2, \n",
        "                          out_features=num_l3,\n",
        "                          bias=True)\n",
        "      self.l_out = nn.Linear(in_features=num_l3, \n",
        "                            out_features=1,\n",
        "                            bias=False)\n",
        "\n",
        "        \n",
        "    \n",
        "    def forward(self, x):\n",
        "      # We apply ReLU in each hidden layer\n",
        "      x = relu(self.conv_1(x))\n",
        "      x = relu(self.conv_2(x))\n",
        "      x = relu(self.conv_3(x))\n",
        "      x = x.view(-1, self.l1_in_features)\n",
        "      x = self.dropout(relu(self.l_2(x))) \n",
        "      x = relu(self.l_1(x)) \n",
        "      x = relu(self.l_0(x)) \n",
        "\n",
        "      x = self.l_out(x)\n",
        "      return x\n",
        "    \n",
        "\n",
        "net = Net().double()\n",
        "#net.cuda()\n",
        "print(net)"
      ],
      "execution_count": null,
      "outputs": [
        {
          "output_type": "stream",
          "name": "stdout",
          "text": [
            "Net(\n",
            "  (conv_1): Conv2d(3, 64, kernel_size=(5, 5), stride=(2, 2), padding=(1, 1))\n",
            "  (conv_2): Conv2d(64, 32, kernel_size=(4, 4), stride=(1, 1), padding=(1, 1))\n",
            "  (conv_3): Conv2d(32, 16, kernel_size=(3, 3), stride=(1, 1), padding=(1, 1))\n",
            "  (conv_4): Conv2d(16, 8, kernel_size=(3, 3), stride=(1, 1), padding=(1, 1))\n",
            "  (dropout): Dropout2d(p=0.25, inplace=False)\n",
            "  (l_2): Linear(in_features=14400, out_features=500, bias=True)\n",
            "  (l_1): Linear(in_features=500, out_features=100, bias=True)\n",
            "  (l_0): Linear(in_features=100, out_features=20, bias=True)\n",
            "  (l_out): Linear(in_features=20, out_features=1, bias=False)\n",
            ")\n"
          ]
        }
      ]
    },
    {
      "cell_type": "markdown",
      "metadata": {
        "id": "n4KpnPYORRBe"
      },
      "source": [
        "Define Loss"
      ]
    },
    {
      "cell_type": "code",
      "metadata": {
        "id": "orj4_2TlRFN2"
      },
      "source": [
        "import torch.optim as optim\n",
        "\n",
        "criterion = nn.MSELoss()\n",
        "optimizer = optim.SGD(net.parameters(), lr=0.001,momentum=0.9, weight_decay = 1e-4)"
      ],
      "execution_count": null,
      "outputs": []
    },
    {
      "cell_type": "markdown",
      "metadata": {
        "id": "3warpZ_eRWCd"
      },
      "source": [
        "## **Train the network**"
      ]
    },
    {
      "cell_type": "code",
      "metadata": {
        "colab": {
          "base_uri": "https://localhost:8080/"
        },
        "id": "aWzkJsw1RLk5",
        "outputId": "abe7ee4b-0b41-45f9-b28d-358a9aab0d31"
      },
      "source": [
        "num_epoch = 15  # Your code here!\n",
        "run_loss_epoch=[]\n",
        "run_loss_epoch_baseline=[]\n",
        "\n",
        "for epoch in range(num_epoch):  # loop over the dataset multiple times\n",
        "\n",
        "    running_loss = 0.0\n",
        "    running_loss_baseline=0.0\n",
        "    for i, data  in enumerate(train_loader, 0):\n",
        "\n",
        "        inputs, labels = data\n",
        "\n",
        "        inputs=torch.swapaxes(inputs, 1, 3)\n",
        "\n",
        "        # wrap them in Variable\n",
        "        inputs, labels = Variable(inputs), Variable(labels)\n",
        "\n",
        "\n",
        "        # zero the parameter gradients\n",
        "        optimizer.zero_grad()\n",
        "\n",
        "        # forward + backward + optimize\n",
        "        output = net(inputs) #forward\n",
        "        loss = criterion(output, labels)\n",
        "        loss.backward()\n",
        "        optimizer.step()\n",
        "\n",
        "        baseline_model_ouput=np.mean(labels.numpy())\n",
        "        loss_baseline = criterion(Variable(torch.tensor(baseline_model_ouput)), labels)\n",
        "\n",
        "        \n",
        "        \n",
        "        # print statistics\n",
        "        running_loss += loss.data\n",
        "        running_loss_baseline += loss_baseline.data\n",
        "\n",
        "        if i % 5 == 4:    # print every 1000 mini-batches\n",
        "            print('[%d, %5d] loss: %.3f' %\n",
        "                  (epoch + 1, i + 1, running_loss / 5))\n",
        "            running_loss = 0.0\n",
        "    run_loss_epoch.append(running_loss)\n",
        "    run_loss_epoch_baseline.append(running_loss_baseline)\n",
        "\n",
        "print('Finished Training')"
      ],
      "execution_count": null,
      "outputs": [
        {
          "output_type": "stream",
          "name": "stderr",
          "text": [
            "/usr/local/lib/python3.7/dist-packages/torch/nn/modules/loss.py:520: UserWarning: Using a target size (torch.Size([128])) that is different to the input size (torch.Size([128, 1])). This will likely lead to incorrect results due to broadcasting. Please ensure they have the same size.\n",
            "  return F.mse_loss(input, target, reduction=self.reduction)\n",
            "/usr/local/lib/python3.7/dist-packages/torch/nn/modules/loss.py:520: UserWarning: Using a target size (torch.Size([128])) that is different to the input size (torch.Size([])). This will likely lead to incorrect results due to broadcasting. Please ensure they have the same size.\n",
            "  return F.mse_loss(input, target, reduction=self.reduction)\n"
          ]
        },
        {
          "output_type": "stream",
          "name": "stdout",
          "text": [
            "[1,     5] loss: 4.866\n",
            "[1,    10] loss: 4.961\n"
          ]
        },
        {
          "output_type": "stream",
          "name": "stderr",
          "text": [
            "/usr/local/lib/python3.7/dist-packages/torch/nn/modules/loss.py:520: UserWarning: Using a target size (torch.Size([93])) that is different to the input size (torch.Size([93, 1])). This will likely lead to incorrect results due to broadcasting. Please ensure they have the same size.\n",
            "  return F.mse_loss(input, target, reduction=self.reduction)\n",
            "/usr/local/lib/python3.7/dist-packages/torch/nn/modules/loss.py:520: UserWarning: Using a target size (torch.Size([93])) that is different to the input size (torch.Size([])). This will likely lead to incorrect results due to broadcasting. Please ensure they have the same size.\n",
            "  return F.mse_loss(input, target, reduction=self.reduction)\n"
          ]
        },
        {
          "output_type": "stream",
          "name": "stdout",
          "text": [
            "[2,     5] loss: 4.588\n",
            "[2,    10] loss: 4.615\n",
            "[3,     5] loss: 4.165\n",
            "[3,    10] loss: 4.021\n",
            "[4,     5] loss: 2.783\n",
            "[4,    10] loss: 1.602\n",
            "[5,     5] loss: 1.228\n",
            "[5,    10] loss: 1.182\n",
            "[6,     5] loss: 0.960\n",
            "[6,    10] loss: 1.089\n",
            "[7,     5] loss: 0.927\n",
            "[7,    10] loss: 1.043\n",
            "[8,     5] loss: 0.913\n",
            "[8,    10] loss: 1.032\n",
            "[9,     5] loss: 0.906\n",
            "[9,    10] loss: 1.028\n",
            "[10,     5] loss: 0.902\n",
            "[10,    10] loss: 1.026\n",
            "[11,     5] loss: 0.899\n",
            "[11,    10] loss: 1.021\n",
            "[12,     5] loss: 0.898\n",
            "[12,    10] loss: 1.020\n",
            "[13,     5] loss: 0.894\n",
            "[13,    10] loss: 1.017\n",
            "[14,     5] loss: 0.896\n",
            "[14,    10] loss: 1.018\n",
            "[15,     5] loss: 0.895\n",
            "[15,    10] loss: 1.017\n",
            "Finished Training\n"
          ]
        }
      ]
    },
    {
      "cell_type": "code",
      "metadata": {
        "colab": {
          "base_uri": "https://localhost:8080/",
          "height": 305
        },
        "id": "y5pX9LtZ8Cmq",
        "outputId": "fd53fd09-2a04-40a2-ce43-91584ddbed37"
      },
      "source": [
        "plt.plot(np.arange(15)+1,run_loss_epoch,\"-o\",label=\"CNN\")\n",
        "plt.plot(np.arange(15)+1,run_loss_epoch_baseline,\"-o\",label=\"baseline\")\n",
        "plt.xticks(fontsize=16)\n",
        "plt.yticks(fontsize=16)\n",
        "plt.xlabel(\"Epoch\",fontsize=16)\n",
        "plt.ylabel(\"MSE\",fontsize=16)\n",
        "plt.legend(fontsize=14)\n",
        "plt.ylim((1,13))\n",
        "plt.title(\"Raw images training loss\",fontsize=16)\n",
        "plt.show()"
      ],
      "execution_count": null,
      "outputs": [
        {
          "output_type": "display_data",
          "data": {
            "image/png": "[encoded data removed]",
            "text/plain": [
              "<Figure size 432x288 with 1 Axes>"
            ]
          },
          "metadata": {
            "needs_background": "light"
          }
        }
      ]
    },
    {
      "cell_type": "code",
      "metadata": {
        "colab": {
          "base_uri": "https://localhost:8080/",
          "height": 294
        },
        "id": "-RjyHk3TYybo",
        "outputId": "f860005b-9d1a-4c77-e914-83a0c1039ad4"
      },
      "source": [
        "plt.plot(np.arange(15)+1,run_loss_epoch_baseline,\"-o\")\n",
        "plt.xlabel(\"epochs\")\n",
        "plt.ylabel(\"MSE\")\n",
        "plt.title(\"Baseline model loss in training raw images\")\n",
        "plt.show()"
      ],
      "execution_count": null,
      "outputs": [
        {
          "output_type": "display_data",
          "data": {
            "image/png": "[encoded data removed]",
            "text/plain": [
              "<Figure size 432x288 with 1 Axes>"
            ]
          },
          "metadata": {
            "needs_background": "light"
          }
        }
      ]
    },
    {
      "cell_type": "markdown",
      "metadata": {
        "id": "yeooWnyU17OZ"
      },
      "source": [
        "**Now with segmented images**\n",
        "\n",
        "---\n",
        "\n",
        "\n",
        "\n",
        "---\n",
        "\n",
        "\n",
        "\n",
        "---\n",
        "\n"
      ]
    },
    {
      "cell_type": "markdown",
      "source": [
        "Network is restarted:"
      ],
      "metadata": {
        "id": "WcRaXdJP5tvt"
      }
    },
    {
      "cell_type": "code",
      "metadata": {
        "colab": {
          "base_uri": "https://localhost:8080/"
        },
        "id": "NnF2EZJ51yXA",
        "outputId": "f4ab1d56-da42-47a6-921f-1bd28bfa4e53"
      },
      "source": [
        "#import torch.optim as optim\n",
        "net2 = Net().double()\n",
        "print(net2)\n",
        "criterion = nn.MSELoss()\n",
        "optimizer = optim.SGD(net2.parameters(), lr=0.001,momentum=0.9, weight_decay = 1e-4)\n"
      ],
      "execution_count": null,
      "outputs": [
        {
          "output_type": "stream",
          "name": "stdout",
          "text": [
            "Net(\n",
            "  (conv_1): Conv2d(3, 64, kernel_size=(5, 5), stride=(2, 2), padding=(1, 1))\n",
            "  (conv_2): Conv2d(64, 32, kernel_size=(4, 4), stride=(1, 1), padding=(1, 1))\n",
            "  (conv_3): Conv2d(32, 16, kernel_size=(3, 3), stride=(1, 1), padding=(1, 1))\n",
            "  (conv_4): Conv2d(16, 8, kernel_size=(3, 3), stride=(1, 1), padding=(1, 1))\n",
            "  (dropout): Dropout2d(p=0.25, inplace=False)\n",
            "  (l_2): Linear(in_features=14400, out_features=500, bias=True)\n",
            "  (l_1): Linear(in_features=500, out_features=100, bias=True)\n",
            "  (l_0): Linear(in_features=100, out_features=20, bias=True)\n",
            "  (l_out): Linear(in_features=20, out_features=1, bias=False)\n",
            ")\n"
          ]
        }
      ]
    },
    {
      "cell_type": "markdown",
      "source": [
        "Train network on the segmented images:"
      ],
      "metadata": {
        "id": "JnzYvYOD5xQb"
      }
    },
    {
      "cell_type": "code",
      "metadata": {
        "colab": {
          "base_uri": "https://localhost:8080/"
        },
        "id": "3ujnk3DzCCI4",
        "outputId": "25547a80-33b2-461b-df45-e770a459a5c6"
      },
      "source": [
        "num_epoch = 15  # Your code here!\n",
        "s_run_loss_epoch=[]\n",
        "s_run_loss_epoch_baseline=[]\n",
        "\n",
        "for epoch in range(num_epoch):  # loop over the dataset multiple times\n",
        "\n",
        "    running_loss = 0.0\n",
        "    running_loss_baseline=0.0\n",
        "    for i, data  in enumerate(train_loader_segmented, 0):\n",
        "        inputs, labels = data\n",
        "\n",
        "        inputs=torch.swapaxes(inputs, 1, 3)\n",
        "\n",
        "        # wrap them in Variable\n",
        "        inputs, labels = Variable(inputs), Variable(labels)\n",
        "\n",
        "\n",
        "        # zero the parameter gradients\n",
        "        optimizer.zero_grad()\n",
        "\n",
        "        # forward + backward + optimize\n",
        "        output = net2(inputs) #forward\n",
        "        loss = criterion(output, labels)\n",
        "        loss.backward()\n",
        "        optimizer.step()\n",
        "\n",
        "        baseline_model_ouput=np.mean(labels.numpy())\n",
        "        loss_baseline = criterion(Variable(torch.tensor(baseline_model_ouput)), labels)\n",
        "\n",
        "        \n",
        "        \n",
        "        # print statistics\n",
        "        running_loss += loss.data\n",
        "        running_loss_baseline += loss_baseline.data\n",
        "\n",
        "        if i % 5 == 4:    # print every 1000 mini-batches\n",
        "            print('[%d, %5d] loss: %.3f' %\n",
        "                  (epoch + 1, i + 1, running_loss / 5))\n",
        "            running_loss = 0.0\n",
        "    s_run_loss_epoch.append(running_loss)\n",
        "    s_run_loss_epoch_baseline.append(running_loss_baseline)\n",
        "\n",
        "print('Finished Training')"
      ],
      "execution_count": null,
      "outputs": [
        {
          "output_type": "stream",
          "name": "stderr",
          "text": [
            "/usr/local/lib/python3.7/dist-packages/torch/nn/modules/loss.py:520: UserWarning: Using a target size (torch.Size([128])) that is different to the input size (torch.Size([128, 1])). This will likely lead to incorrect results due to broadcasting. Please ensure they have the same size.\n",
            "  return F.mse_loss(input, target, reduction=self.reduction)\n",
            "/usr/local/lib/python3.7/dist-packages/torch/nn/modules/loss.py:520: UserWarning: Using a target size (torch.Size([128])) that is different to the input size (torch.Size([])). This will likely lead to incorrect results due to broadcasting. Please ensure they have the same size.\n",
            "  return F.mse_loss(input, target, reduction=self.reduction)\n"
          ]
        },
        {
          "output_type": "stream",
          "name": "stdout",
          "text": [
            "[1,     5] loss: 4.887\n",
            "[1,    10] loss: 5.007\n"
          ]
        },
        {
          "output_type": "stream",
          "name": "stderr",
          "text": [
            "/usr/local/lib/python3.7/dist-packages/torch/nn/modules/loss.py:520: UserWarning: Using a target size (torch.Size([93])) that is different to the input size (torch.Size([93, 1])). This will likely lead to incorrect results due to broadcasting. Please ensure they have the same size.\n",
            "  return F.mse_loss(input, target, reduction=self.reduction)\n",
            "/usr/local/lib/python3.7/dist-packages/torch/nn/modules/loss.py:520: UserWarning: Using a target size (torch.Size([93])) that is different to the input size (torch.Size([])). This will likely lead to incorrect results due to broadcasting. Please ensure they have the same size.\n",
            "  return F.mse_loss(input, target, reduction=self.reduction)\n"
          ]
        },
        {
          "output_type": "stream",
          "name": "stdout",
          "text": [
            "[2,     5] loss: 4.701\n",
            "[2,    10] loss: 4.791\n",
            "[3,     5] loss: 4.450\n",
            "[3,    10] loss: 4.439\n",
            "[4,     5] loss: 3.720\n",
            "[4,    10] loss: 2.712\n",
            "[5,     5] loss: 1.529\n",
            "[5,    10] loss: 1.590\n",
            "[6,     5] loss: 1.080\n",
            "[6,    10] loss: 1.101\n",
            "[7,     5] loss: 0.954\n",
            "[7,    10] loss: 1.071\n",
            "[8,     5] loss: 0.923\n",
            "[8,    10] loss: 1.035\n",
            "[9,     5] loss: 0.901\n",
            "[9,    10] loss: 1.022\n",
            "[10,     5] loss: 0.898\n",
            "[10,    10] loss: 1.015\n",
            "[11,     5] loss: 0.897\n",
            "[11,    10] loss: 1.015\n",
            "[12,     5] loss: 0.896\n",
            "[12,    10] loss: 1.017\n",
            "[13,     5] loss: 0.893\n",
            "[13,    10] loss: 1.015\n",
            "[14,     5] loss: 0.893\n",
            "[14,    10] loss: 1.014\n",
            "[15,     5] loss: 0.894\n",
            "[15,    10] loss: 1.013\n",
            "Finished Training\n"
          ]
        }
      ]
    },
    {
      "cell_type": "code",
      "metadata": {
        "colab": {
          "base_uri": "https://localhost:8080/",
          "height": 305
        },
        "id": "9HuuIhAIAbup",
        "outputId": "610b34ec-23e4-48e1-b10c-427577a6bf8b"
      },
      "source": [
        "plt.plot(np.arange(15)+1,run_loss_epoch,\"-o\",label=\"raw images\")\n",
        "plt.plot(np.arange(15)+1,s_run_loss_epoch,\"-o\",label=\"segmented images\")\n",
        "plt.xlabel(\"Epoch\",fontsize=16)\n",
        "plt.ylabel(\"MSE\",fontsize=16)\n",
        "plt.xticks(fontsize=16)\n",
        "plt.yticks(fontsize=16)\n",
        "plt.legend(fontsize=16)\n",
        "plt.ylim((1,11.5))\n",
        "plt.title(\"Raw and segmented images training loss comparison\",fontsize=16)\n",
        "plt.show()"
      ],
      "execution_count": null,
      "outputs": [
        {
          "output_type": "display_data",
          "data": {
            "image/png": "[encoded data removed]",
            "text/plain": [
              "<Figure size 432x288 with 1 Axes>"
            ]
          },
          "metadata": {
            "needs_background": "light"
          }
        }
      ]
    },
    {
      "cell_type": "code",
      "metadata": {
        "colab": {
          "base_uri": "https://localhost:8080/",
          "height": 323
        },
        "id": "uOf7_LSIeyr1",
        "outputId": "3bf7cdf7-1f6a-4f45-c646-6c45fbc5ae76"
      },
      "source": [
        "fig, (ax1, ax2) = plt.subplots(1, 2)\n",
        "ax1.plot(np.arange(15)+1,s_run_loss_epoch,\"-o\")\n",
        "ax1.set_title(\"segmented images\")\n",
        "ax2.plot(np.arange(15)+1,run_loss_epoch,\"-o\")\n",
        "ax2.set_title(\"non segmented images\")\n",
        "ax2.set_xlabel(\"timepoint\")\n",
        "ax1.set_xlabel(\"timepoint\")\n",
        "ax1.set_ylabel(\"MSE training\")\n",
        "\n",
        "plt.suptitle(\"CNN loss in training\")"
      ],
      "execution_count": null,
      "outputs": [
        {
          "output_type": "execute_result",
          "data": {
            "text/plain": [
              "Text(0.5, 0.98, 'CNN loss in training')"
            ]
          },
          "metadata": {},
          "execution_count": 69
        },
        {
          "output_type": "display_data",
          "data": {
            "image/png": "[encoded data removed]",
            "text/plain": [
              "<Figure size 432x288 with 2 Axes>"
            ]
          },
          "metadata": {
            "needs_background": "light"
          }
        }
      ]
    },
    {
      "cell_type": "markdown",
      "metadata": {
        "id": "ODZrxFDyj79I"
      },
      "source": [
        "## **TEST on the whole dataset, and their errors:**"
      ]
    },
    {
      "cell_type": "code",
      "metadata": {
        "colab": {
          "base_uri": "https://localhost:8080/"
        },
        "id": "nhRKyMwcD1IR",
        "outputId": "771d753f-c84a-4828-be2e-fe3a14f705e2"
      },
      "source": [
        "#net = Net().double()\n",
        "error_batches = []\n",
        "error_batches_s = []\n",
        "\n",
        "error_batches_baseline = []\n",
        "\n",
        "predicted_cnn=[]\n",
        "label_truth=[]\n",
        "predicted_cnn_s=[]\n",
        "label_truth_s=[]\n",
        "for data in test_loader:\n",
        "    images, labels = data\n",
        "    images=torch.swapaxes(images, 1, 3)\n",
        "\n",
        "    outputs = net(Variable(images))\n",
        "\n",
        "    predicted = outputs.data\n",
        "    error=np.sqrt((labels.numpy()-np.ravel(predicted.numpy()))**2)\n",
        "    y_test_mean=np.mean(labels.numpy())\n",
        "\n",
        "    mean_error=np.mean(error)\n",
        "\n",
        "    predicted_cnn.append(predicted.numpy())\n",
        "    label_truth.append(labels.numpy())\n",
        "\n",
        "    error_batches.append(np.array(mean_error))\n",
        "\n",
        "for data in test_loader_segmented:\n",
        "    images, labels = data\n",
        "    images=torch.swapaxes(images, 1, 3)\n",
        "\n",
        "    outputs = net2(Variable(images))\n",
        "\n",
        "    predicted = outputs.data\n",
        "    error=np.sqrt((labels.numpy()-np.ravel(predicted.numpy()))**2)\n",
        "    y_test_mean=np.mean(labels.numpy())\n",
        "\n",
        "    mean_error=np.mean(error)\n",
        "\n",
        "    predicted_cnn_s.append(predicted.numpy())\n",
        "    label_truth_s.append(labels.numpy())\n",
        "    error_batches_s.append(np.array(mean_error))\n",
        "\n",
        "print(\"Error in batch\",error_batches_s)\n",
        "print(\"Error in batch\",error_batches)\n"
      ],
      "execution_count": null,
      "outputs": [
        {
          "output_type": "stream",
          "name": "stdout",
          "text": [
            "Error in batch [array(0.55048284), array(0.80148806), array(0.65482394), array(0.59636111), array(0.76132715), array(0.82557067)]\n",
            "Error in batch [array(0.5160424), array(0.83292088), array(0.67063537), array(0.60264064), array(0.76780874), array(0.83428983)]\n"
          ]
        }
      ]
    },
    {
      "cell_type": "code",
      "metadata": {
        "colab": {
          "base_uri": "https://localhost:8080/",
          "height": 502
        },
        "id": "ex4OrjpgYEz9",
        "outputId": "db16728e-7265-4c6d-ed40-20861cc42c9c"
      },
      "source": [
        "#density plot of predicted and true values (seaborn) with scatter plot and desity function\n",
        "import seaborn as sns\n",
        "predicted_cnn_vec=np.vstack(predicted_cnn).reshape(-1)\n",
        "label_truth_vec=np.concatenate(label_truth)\n",
        "\n",
        "data = pd.DataFrame({\"glucose change\": label_truth_vec, \"predicted\": predicted_cnn_vec})\n",
        "g = sns.jointplot(\n",
        "    data=data,\n",
        "    x=\"glucose change\",y=\"predicted\",\n",
        "    kind=\"hex\",\n",
        "    ratio=10,ylim = (0,7)\n",
        ")\n",
        "g.set_axis_labels(xlabel=\"glucose change\",ylabel=\"predicted\",fontsize=16)\n",
        "plt.suptitle(\"Ground truth vs predicted GC for non segmented images\",y=1.02,fontsize=16)\n",
        "plt.xticks(fontsize=16)\n",
        "plt.yticks(fontsize=16)\n",
        "\n",
        "\n",
        "#plt.suptitle(title, y = 1)\n"
      ],
      "execution_count": null,
      "outputs": [
        {
          "output_type": "execute_result",
          "data": {
            "text/plain": [
              "(array([0., 1., 2., 3., 4., 5., 6., 7.]),\n",
              " <a list of 8 Text major ticklabel objects>)"
            ]
          },
          "metadata": {},
          "execution_count": 109
        },
        {
          "output_type": "display_data",
          "data": {
            "image/png": "[encoded data removed]",
            "text/plain": [
              "<Figure size 432x432 with 3 Axes>"
            ]
          },
          "metadata": {
            "needs_background": "light"
          }
        }
      ]
    },
    {
      "cell_type": "code",
      "metadata": {
        "colab": {
          "base_uri": "https://localhost:8080/",
          "height": 502
        },
        "id": "6K0j-7ckYOoe",
        "outputId": "0824f9d3-4334-45b7-819c-5e759b24401a"
      },
      "source": [
        "predicted_cnn_vec_s=np.vstack(predicted_cnn_s).reshape(-1)\n",
        "label_truth_vec_s=np.concatenate(label_truth_s)\n",
        "#label_truth_vec=np.vstack(label_truth).reshape(-1)\n",
        "\n",
        "data_s = pd.DataFrame({\"glucose change\": label_truth_vec_s, \"predicted\": predicted_cnn_vec_s})\n",
        "g = sns.jointplot(\n",
        "    data=data_s,\n",
        "    x=\"glucose change\",y=\"predicted\",\n",
        "    kind=\"hex\",\n",
        "    ratio=10,ylim = (0,7)\n",
        ")\n",
        "g.set_axis_labels(xlabel=\"glucose change\",ylabel=\"predicted\",fontsize=16)\n",
        "plt.suptitle(\"Ground truth vs predicted GC for segmented images\",y=1.02,fontsize=16)\n",
        "plt.xticks(fontsize=16)\n",
        "plt.yticks(fontsize=16)"
      ],
      "execution_count": null,
      "outputs": [
        {
          "output_type": "execute_result",
          "data": {
            "text/plain": [
              "(array([0., 1., 2., 3., 4., 5., 6., 7.]),\n",
              " <a list of 8 Text major ticklabel objects>)"
            ]
          },
          "metadata": {},
          "execution_count": 110
        },
        {
          "output_type": "display_data",
          "data": {
            "image/png": "[encoded data removed]",
            "text/plain": [
              "<Figure size 432x432 with 3 Axes>"
            ]
          },
          "metadata": {
            "needs_background": "light"
          }
        }
      ]
    }
  ]
}